{
 "cells": [
  {
   "cell_type": "markdown",
   "id": "collect-knight",
   "metadata": {},
   "source": [
    "## Examining timing side-channel attacks\n",
    "\n",
    "The idea is to show that time analysis can reveal meaningful information about a string used in a secret or a password if the amount of time it takes to perform the string match isn't buffered. \n",
    "\n",
    "This example will be to show how the libc strcmp method reveals information about a secret string and, possibly, the string itself in a brute force attack. We'll be using python code to demonstrate the action and analysis, but this can be performed with any language that uses similar methods.\n",
    "\n",
    "\n",
    "Our secret string is 'apple'.\n",
    "\n",
    "A client presents the secret string to the server, who knows the secret string, in an operation that will fail if the secret is incorrect.\n",
    "\n",
    "So:\n",
    "\n",
    "Client -> 'apple' -> Server  \n",
    "\n",
    "Server: \n",
    "- receives a buffer containing the string. \n",
    "- gets a copy of the secret \n",
    "- strcmp's the two strings\n",
    "    - analyze bytes from l to r\n",
    "    - when a byte fails, return False\n",
    "    - if no bytes fail move to next char. \n",
    "    - Return True if nothing fails or False when a match fails.\n",
    "Server ->True/False -> Client \n",
    "\n",
    "The problem is that for every correct chunk of text on the LHS the \"fail\" takes longer to return. Also - longer strings also take longer to return.\n",
    "\n",
    "So \"b\" or \"broken\" returns a failure instantly, but \"a\", \"aplomb\", \"app\", \"application\", etc will each take slightly longer for each character matched. The times are tiny, but it's possible to model the jitter window such that these lengths don't get lost in the noise. This can drastically cut down the time of a brute force attack and enhance its chances of success.\n",
    "\n",
    "TL;DR - using sound hash functions which return in a constant time and not rolling-your-own solves this problem.\n",
    "\n",
    "Also: for authentication purposes it's an antipattern to store the secret plaintext or decode an encrypted secret to compare in plaintext. Hashing the secret, storing the hash then comparing the hashes also obscures the size of your secret by making the compared strings the same lengh, and increasing the problem for a brute force attack."
   ]
  },
  {
   "cell_type": "code",
   "execution_count": 2,
   "id": "solved-arbitration",
   "metadata": {},
   "outputs": [],
   "source": [
    "# need to use attotime here to get fractional nanoseconds\n",
    "import sys, os, time, string, attotime, secrets, hashlib\n",
    "from datetime import datetime\n",
    "\n",
    "# imports\n",
    "import pandas as pd\n",
    "import numpy as np\n",
    "\n",
    "# Viz imports\n",
    "import matplotlib.pyplot as plt\n",
    "import seaborn as sns\n",
    "\n",
    "# Config matplotlib\n",
    "%matplotlib inline\n",
    "plt.rcParams[\"patch.force_edgecolor\"] = True # in matplotlib, edge borders are turned off by default.\n",
    "sns.set_style(\"darkgrid\") # set a grey grid as a background\n",
    "\n",
    "# turn off warnings\n",
    "import warnings\n",
    "warnings.filterwarnings('ignore')\n"
   ]
  },
  {
   "cell_type": "code",
   "execution_count": 3,
   "id": "seeing-prophet",
   "metadata": {},
   "outputs": [],
   "source": [
    "# we only care about urlsafe characters - alpha, numeric, dash and underscore. Omitting . and ~ (RFC 3986)\n",
    "valid_chars = list(string.ascii_letters)\n",
    "for x in range(0,10):\n",
    "    valid_chars.append(str(x))\n",
    "valid_chars.append('-')\n",
    "valid_chars.append('_')"
   ]
  },
  {
   "cell_type": "code",
   "execution_count": 4,
   "id": "bridal-picking",
   "metadata": {},
   "outputs": [],
   "source": [
    "def compare1(str1, str2):\n",
    "    \"\"\"\n",
    "    Here we're going to amplify the lib strcmp delays to make the weakness easier to analyze:\n",
    "    1. evaluate strings l-to-r\n",
    "    2. dope a positive match with a tiny wait to emphasize the delay for demonstration\n",
    "    3. return a False match immediately\n",
    "    \"\"\"\n",
    "\n",
    "    one, two = list(str1), list(str2)\n",
    "    for x in range(0,len(one)):\n",
    "        if one[x] == two[x]:\n",
    "            time.sleep(.001)\n",
    "            pass\n",
    "        else:\n",
    "            return False\n",
    "    return True"
   ]
  },
  {
   "cell_type": "markdown",
   "id": "athletic-nightlife",
   "metadata": {},
   "source": [
    "### First example - guess the first letter\n",
    "\n",
    "Here we'll just run through each letter 1k times adding completion time to an array. Then we'll find the longest run of the letters.\n",
    "\n",
    "The original code here found the longest completion of a string and added it to the \"totals\" array, then we sorted the longest variant of 'totals'. This would be better if averaged every run, then added that to the dict. \n",
    "\n",
    "TODO:\n",
    "- add mean returns\n",
    "- add an evaluation loop that then uses that builds the string from the statistical stubs"
   ]
  },
  {
   "cell_type": "code",
   "execution_count": 5,
   "id": "awful-rebate",
   "metadata": {},
   "outputs": [],
   "source": [
    "# in a long string we just want to guess the first character\n",
    "# mysecret = secrets.token_urlsafe()\n",
    "mysecret = 'rMAwzI_52tVSvgKzRo3PJ0G7_Danw7jlaZ-6vTkOUiQ'"
   ]
  },
  {
   "cell_type": "code",
   "execution_count": 6,
   "id": "reduced-electric",
   "metadata": {},
   "outputs": [],
   "source": [
    "totals=[]\n",
    "for loop in range(1000):\n",
    "    stash = {}\n",
    "    for l in valid_chars:\n",
    "        mystr = l *10\n",
    "        start = attotime.attodatetime.now()\n",
    "        compare1(mystr, mysecret)\n",
    "        end = attotime.attodatetime.now()\n",
    "        duration = end - start\n",
    "        stash[mystr] = str(duration)\n"
   ]
  },
  {
   "cell_type": "code",
   "execution_count": 7,
   "id": "labeled-advancement",
   "metadata": {},
   "outputs": [
    {
     "data": {
      "text/plain": [
       "[('pppppppppp', '0:00:00.00020503997802735'),\n",
       " ('oooooooooo', '0:00:00.00020575523376465'),\n",
       " ('EEEEEEEEEE', '0:00:00.00020718574523926'),\n",
       " ('CCCCCCCCCC', '0:00:00.00020790100097656'),\n",
       " ('5555555555', '0:00:00.00020790100097657'),\n",
       " ('mmmmmmmmmm', '0:00:00.00020813941955566'),\n",
       " ('DDDDDDDDDD', '0:00:00.00020813941955566'),\n",
       " ('RRRRRRRRRR', '0:00:00.00020885467529297'),\n",
       " ('BBBBBBBBBB', '0:00:00.00020909309387207'),\n",
       " ('SSSSSSSSSS', '0:00:00.00020909309387207')]"
      ]
     },
     "execution_count": 7,
     "metadata": {},
     "output_type": "execute_result"
    }
   ],
   "source": [
    "# fastest\n",
    "sorted(stash.items(), key=lambda x: x[1])[:10]"
   ]
  },
  {
   "cell_type": "code",
   "execution_count": 8,
   "id": "casual-remark",
   "metadata": {},
   "outputs": [
    {
     "data": {
      "text/plain": [
       "[('eeeeeeeeee', '0:00:00.00024604797363281'),\n",
       " ('XXXXXXXXXX', '0:00:00.00025177001953125'),\n",
       " ('MMMMMMMMMM', '0:00:00.00025510787963867'),\n",
       " ('6666666666', '0:00:00.00026392936706543'),\n",
       " ('----------', '0:00:00.00028324127197266'),\n",
       " ('FFFFFFFFFF', '0:00:00.00028610229492187'),\n",
       " ('GGGGGGGGGG', '0:00:00.00029516220092774'),\n",
       " ('WWWWWWWWWW', '0:00:00.00030899047851562'),\n",
       " ('LLLLLLLLLL', '0:00:00.00034999847412109'),\n",
       " ('rrrrrrrrrr', '0:00:00.00163507461547851')]"
      ]
     },
     "execution_count": 8,
     "metadata": {},
     "output_type": "execute_result"
    }
   ],
   "source": [
    "# slowest returns at the bottom\n",
    "# note how much slower lower case rrrrrrrrrr (leading character match) is compared to the rest\n",
    "sorted(stash.items(), key=lambda x: x[1])[-10:]"
   ]
  },
  {
   "cell_type": "code",
   "execution_count": null,
   "id": "personalized-picnic",
   "metadata": {},
   "outputs": [],
   "source": []
  },
  {
   "cell_type": "markdown",
   "id": "extensive-rochester",
   "metadata": {},
   "source": [
    "### statistical analysis\n",
    "\n",
    "Currently incomplete.\n",
    "\n",
    "We'll run each letter comparison 10 times, then get the mean of those runs. After a loop choose the longest timed character as the next spot on the stub."
   ]
  },
  {
   "cell_type": "code",
   "execution_count": 9,
   "id": "deluxe-police",
   "metadata": {},
   "outputs": [],
   "source": [
    "stash1 = {}\n",
    "for l in valid_chars:\n",
    "    totals=[]\n",
    "    for loop in range(10):\n",
    "        #mystr = l *10\n",
    "        start = attotime.attodatetime.now()\n",
    "        compare1(l, mysecret)\n",
    "        end = attotime.attodatetime.now()\n",
    "        ttime = end - start\n",
    "        duration = str(ttime).split(':')[2]\n",
    "        totals.append(float(duration))\n",
    "        #print(min(totals), max(totals), sum(totals) / len(totals))\n",
    "\n",
    "    stash1[l] = sum(totals) / len(totals)\n",
    "        \n",
    "# sorted(stash1.items(), key=lambda x: x[1])\n"
   ]
  },
  {
   "cell_type": "code",
   "execution_count": 10,
   "id": "incorporate-motion",
   "metadata": {},
   "outputs": [
    {
     "data": {
      "text/plain": [
       "64"
      ]
     },
     "execution_count": 10,
     "metadata": {},
     "output_type": "execute_result"
    }
   ],
   "source": [
    "len(stash1)"
   ]
  },
  {
   "cell_type": "code",
   "execution_count": 11,
   "id": "intense-roman",
   "metadata": {},
   "outputs": [
    {
     "data": {
      "text/plain": [
       "('r', 0.0015602588653564479)"
      ]
     },
     "execution_count": 11,
     "metadata": {},
     "output_type": "execute_result"
    }
   ],
   "source": [
    "sorted(stash1.items(), key=lambda x: x[1])[-1]"
   ]
  },
  {
   "cell_type": "markdown",
   "id": "faced-parade",
   "metadata": {},
   "source": [
    "### visualizing\n"
   ]
  },
  {
   "cell_type": "code",
   "execution_count": 12,
   "id": "adjusted-yeast",
   "metadata": {},
   "outputs": [],
   "source": [
    "df = pd.DataFrame(stash.items())"
   ]
  },
  {
   "cell_type": "code",
   "execution_count": 13,
   "id": "hybrid-german",
   "metadata": {},
   "outputs": [],
   "source": [
    "# change the column names \n",
    "df.columns = ['string', 'duration']"
   ]
  },
  {
   "cell_type": "code",
   "execution_count": 14,
   "id": "elegant-disney",
   "metadata": {},
   "outputs": [],
   "source": [
    "def fixtimes(time):\n",
    "    \"\"\"\n",
    "    early version where duration was saved as a attotime string\n",
    "    \"\"\"\n",
    "    if isinstance(time, str):\n",
    "        return float(time.split(':')[2])"
   ]
  },
  {
   "cell_type": "code",
   "execution_count": 15,
   "id": "objective-wallet",
   "metadata": {},
   "outputs": [],
   "source": [
    "# change duration strings to be integers. only use the fractional nanoseconds in this case\n",
    "df['duration'] = df['duration'].apply(fixtimes)"
   ]
  },
  {
   "cell_type": "markdown",
   "id": "appreciated-pavilion",
   "metadata": {},
   "source": [
    "**the plot**\n",
    "\n",
    "The plot is mildly borked. I want a list of xticks that show the string at 'x' where the Duration of 'y' is highest, but set_xticklabels doesn't correlate to y vals. Will fix this later. \n",
    "\n",
    "That said - you'll see that the high point duration matches the 'rrrrrrrrrr' entry from the data."
   ]
  },
  {
   "cell_type": "code",
   "execution_count": 16,
   "id": "promising-validation",
   "metadata": {},
   "outputs": [
    {
     "data": {
      "text/plain": [
       "Text(0, 0.5, 'duration')"
      ]
     },
     "execution_count": 16,
     "metadata": {},
     "output_type": "execute_result"
    },
    {
     "data": {
      "image/png": "[encoded data removed]",
      "text/plain": [
       "<Figure size 1296x432 with 1 Axes>"
      ]
     },
     "metadata": {},
     "output_type": "display_data"
    }
   ],
   "source": [
    "ax = df.plot(figsize=(18,6))\n",
    "df[df['duration']> .000222]['duration'].plot(figsize=(18,6))\n",
    "# not mapping strings to duration correctly\n",
    "plt.xticks(rotation=45)\n",
    "ax.set_xticklabels(df[df['duration']> .000222]['string'])\n",
    "#ax.set_xticklabels(df.string.to_list())\n",
    "# not working as I expected\n",
    "# ax.set_xlabel(df.string.to_list())\n",
    "ax.set_xlabel('string')\n",
    "ax.set_ylabel('duration')"
   ]
  },
  {
   "cell_type": "markdown",
   "id": "guilty-employment",
   "metadata": {},
   "source": [
    "**a histogram shows off the distributions**\n",
    "\n",
    "Most of the count returns immediately, but you can see on the right where the longest returns are."
   ]
  },
  {
   "cell_type": "code",
   "execution_count": 17,
   "id": "reported-stick",
   "metadata": {},
   "outputs": [
    {
     "data": {
      "text/plain": [
       "<AxesSubplot:xlabel='duration', ylabel='Density'>"
      ]
     },
     "execution_count": 17,
     "metadata": {},
     "output_type": "execute_result"
    },
    {
     "data": {
      "image/png": "[encoded data removed]",
      "text/plain": [
       "<Figure size 1296x432 with 1 Axes>"
      ]
     },
     "metadata": {},
     "output_type": "display_data"
    }
   ],
   "source": [
    "# a histogram shows off how obvious a good match is, compared to jitter\n",
    "sns.set(rc={'figure.figsize':(18,6)})\n",
    "plt.xticks(rotation=45)\n",
    "sns.distplot(df[df['duration']> .000222]['duration'],bins=150, rug=True, kde=True)"
   ]
  },
  {
   "cell_type": "markdown",
   "id": "senior-aging",
   "metadata": {},
   "source": [
    "## example of brute force strcmp analysis attacks \n",
    "\n",
    "Here's a dictionary matcher"
   ]
  },
  {
   "cell_type": "code",
   "execution_count": 18,
   "id": "about-attack",
   "metadata": {},
   "outputs": [],
   "source": [
    "# get a built-in dictionary\n",
    "wordsraw = open('/usr/share/dict/words','r').readlines()\n",
    "[x.strip('\\n') for x in wordsraw]\n",
    "words = [x.strip('\\n') for x in wordsraw]"
   ]
  },
  {
   "cell_type": "code",
   "execution_count": 19,
   "id": "small-buying",
   "metadata": {},
   "outputs": [],
   "source": [
    "# set our name as 'apple'\n",
    "name='apple'\n",
    "# a longer one\n",
    "name2 = 'unresourcefulness'"
   ]
  },
  {
   "cell_type": "markdown",
   "id": "sorted-complexity",
   "metadata": {},
   "source": [
    "**This can take awhile to run**\n",
    "\n",
    "Just matching 'apple' from a dictionary of english words. Words farther down the alphabet will take longer.\n"
   ]
  },
  {
   "cell_type": "code",
   "execution_count": 20,
   "id": "informal-registration",
   "metadata": {},
   "outputs": [
    {
     "name": "stdout",
     "output_type": "stream",
     "text": [
      "starting at: 2021-09-17 18:28:24.229185\n",
      "Name is apple\n",
      "Finished. Total time: 0:00:23.12203621864318848\n"
     ]
    }
   ],
   "source": [
    "stash2 = {}\n",
    "print('starting at:', datetime.now())\n",
    "runstart = attotime.attodatetime.now()\n",
    "for w in range(0,len(words)):\n",
    "    start = attotime.attodatetime.now()\n",
    "    if compare1(words[w], name):\n",
    "            if compare1(words[w], name):\n",
    "                if words[w] == name:\n",
    "                    print('Name is', words[w])\n",
    "                    break\n",
    "            else:\n",
    "                end = attotime.attodatetime.now()\n",
    "                duration = end - start\n",
    "                stash2[words[w]] = str(duration)\n",
    "                print(words[w])\n",
    "                stub = s\n",
    "                break\n",
    "    else:\n",
    "        end = attotime.attodatetime.now()\n",
    "        duration = end - start\n",
    "        stash2[words[w]] = str(duration)\n",
    "        pass\n",
    "runend = attotime.attodatetime.now()\n",
    "print('Finished. Total time:', runend - runstart)"
   ]
  },
  {
   "cell_type": "code",
   "execution_count": 21,
   "id": "mediterranean-helmet",
   "metadata": {},
   "outputs": [
    {
     "data": {
      "text/plain": [
       "[('Angevin', '0:00:00.0002138614654541'),\n",
       " ('Amerindic', '0:00:00.00021457672119141'),\n",
       " ('Amerindian', '0:00:00.00021481513977051'),\n",
       " ('Aaronite', '0:00:00.00021505355834961'),\n",
       " ('Americanoid', '0:00:00.00021576881408691'),\n",
       " ('Appendiculata', '0:00:00.00021600723266602'),\n",
       " ('Anglicanum', '0:00:00.00021672248840332'),\n",
       " ('Aeacus', '0:00:00.00021696090698242'),\n",
       " ('Americaward', '0:00:00.00021696090698242'),\n",
       " ('Angetenar', '0:00:00.00021886825561523')]"
      ]
     },
     "execution_count": 21,
     "metadata": {},
     "output_type": "execute_result"
    }
   ],
   "source": [
    "sorted(stash2.items(),key=lambda x: x[1])[:10]"
   ]
  },
  {
   "cell_type": "markdown",
   "id": "empty-register",
   "metadata": {},
   "source": [
    "### Brute forcing letter by character\n",
    "\n",
    "using the timing analysis on local alphabet attacks"
   ]
  },
  {
   "cell_type": "code",
   "execution_count": 22,
   "id": "supposed-slave",
   "metadata": {},
   "outputs": [
    {
     "name": "stdout",
     "output_type": "stream",
     "text": [
      "un\n",
      "unr\n",
      "unre\n",
      "unres\n",
      "unreso\n",
      "unresou\n",
      "unresour\n",
      "unresourc\n",
      "unresource\n",
      "unresourcef\n",
      "unresourcefu\n",
      "unresourceful\n",
      "unresourcefuln\n",
      "unresourcefulne\n",
      "unresourcefulnes\n",
      "Name is unresourcefulness\n",
      "Name is unresourcefulness\n"
     ]
    }
   ],
   "source": [
    "\n",
    "stash3 = {}\n",
    "for c in valid_chars:\n",
    "    stub = c\n",
    "    for loop in range(0, len(name2)):\n",
    "        stublist = [stub + l for l in valid_chars]\n",
    "        for s in stublist:\n",
    "            start = attotime.attodatetime.now()\n",
    "            if compare1(s, name2):\n",
    "                if s == name2:\n",
    "                    print('Name is', s)\n",
    "                    break\n",
    "                else:\n",
    "                    end = attotime.attodatetime.now()\n",
    "                    duration = end - start\n",
    "                    stash3[s] = str(duration)\n",
    "                    print(s)\n",
    "                    stub = s\n",
    "                    break\n",
    "            else:\n",
    "                end = attotime.attodatetime.now()\n",
    "                duration = end - start\n",
    "                stash3[s] = str(duration)\n",
    "                pass"
   ]
  },
  {
   "cell_type": "markdown",
   "id": "cordless-stable",
   "metadata": {},
   "source": [
    "**The longest returns are at the bottom and correspond to getting closer to the answer**\n",
    "\n",
    "There is a little jumbling but it's clear that by only focusing on time it clusters better answers together."
   ]
  },
  {
   "cell_type": "code",
   "execution_count": 23,
   "id": "sitting-therapy",
   "metadata": {},
   "outputs": [
    {
     "data": {
      "text/plain": [
       "[('unresourcefulnesm', '0:00:00.01949715614318847'),\n",
       " ('unresourcefulnesa', '0:00:00.01952290534973144'),\n",
       " ('unresourcefulneb', '0:00:00.01956582069396973'),\n",
       " ('unresourcefulnesk', '0:00:00.0196380615234375'),\n",
       " ('unresourcefulnesh', '0:00:00.01964306831359864'),\n",
       " ('unresourcefulnesl', '0:00:00.01965808868408203'),\n",
       " ('unresourcefulnec', '0:00:00.01977396011352539'),\n",
       " ('unresourcefulnesn', '0:00:00.019989013671875'),\n",
       " ('unresourcefulnesf', '0:00:00.02000999450683593'),\n",
       " ('unresourcefulnesj', '0:00:00.02003812789916992'),\n",
       " ('unresourcefulnesi', '0:00:00.02007293701171875'),\n",
       " ('unresourcefulnesq', '0:00:00.02025604248046875'),\n",
       " ('unresourcefulnesg', '0:00:00.02032208442687989'),\n",
       " ('unresourcefulnese', '0:00:00.02042388916015625'),\n",
       " ('unresourcefulnee', '0:00:00.02042913436889649'),\n",
       " ('unresourcefulnesr', '0:00:00.02044820785522461'),\n",
       " ('unresourcefulnesb', '0:00:00.02046108245849609'),\n",
       " ('unresourcefulnes', '0:00:00.0205690860748291'),\n",
       " ('unresourcefulnesp', '0:00:00.02066922187805176'),\n",
       " ('unresourcefulnesc', '0:00:00.02082085609436035')]"
      ]
     },
     "execution_count": 23,
     "metadata": {},
     "output_type": "execute_result"
    }
   ],
   "source": [
    "# The longest returns are at the bottom and correspond to getting closer to the answer\n",
    "sorted(stash3.items(), key=lambda x: x[1])[-20:]"
   ]
  },
  {
   "cell_type": "markdown",
   "id": "falling-knowing",
   "metadata": {},
   "source": [
    "**and a modified dictionary word**"
   ]
  },
  {
   "cell_type": "code",
   "execution_count": 24,
   "id": "broad-theater",
   "metadata": {},
   "outputs": [
    {
     "name": "stdout",
     "output_type": "stream",
     "text": [
      "or\n",
      "ora\n",
      "oran\n",
      "orang\n",
      "orang0\n",
      "orang00\n",
      "orang00t\n",
      "orang00t4\n",
      "orang00t4_\n",
      "Name is orang00t4_n\n",
      "Name is orang00t4_n\n"
     ]
    }
   ],
   "source": [
    "name='orang00t4_n'\n",
    "stash4 = {}\n",
    "for c in valid_chars:\n",
    "    stub = c\n",
    "    for loop in range(0, len(name)):\n",
    "        stublist = [stub + l for l in valid_chars]\n",
    "        for s in stublist:\n",
    "            start = attotime.attodatetime.now()\n",
    "            if compare1(s, name):\n",
    "                if s == name:\n",
    "                    print('Name is', s)\n",
    "                    break\n",
    "                else:\n",
    "                    end = attotime.attodatetime.now()\n",
    "                    duration = end - start\n",
    "                    stash4[s] = str(duration)\n",
    "                    print(s)\n",
    "                    stub = s\n",
    "                    break\n",
    "            else:\n",
    "                end = attotime.attodatetime.now()\n",
    "                duration = end - start\n",
    "                stash4[s] = str(duration)\n",
    "                pass\n",
    "            "
   ]
  },
  {
   "cell_type": "code",
   "execution_count": 25,
   "id": "manual-spanish",
   "metadata": {},
   "outputs": [
    {
     "data": {
      "text/plain": [
       "[('orang00t4_f', '0:00:00.01232790946960449'),\n",
       " ('orang00t4A', '0:00:00.01233291625976563'),\n",
       " ('orang00t4Q', '0:00:00.01233506202697754'),\n",
       " ('orang00t4M', '0:00:00.01236200332641601'),\n",
       " ('orang00t4L', '0:00:00.01236224174499512'),\n",
       " ('orang00t4_j', '0:00:00.01240086555480957'),\n",
       " ('orang00t4J', '0:00:00.01240921020507812'),\n",
       " ('orang00t4_c', '0:00:00.01241874694824219'),\n",
       " ('orang00t4_g', '0:00:00.01261687278747558'),\n",
       " ('orang00t4_d', '0:00:00.01262688636779785'),\n",
       " ('orang00t4N', '0:00:00.01263189315795899'),\n",
       " ('orang00t46', '0:00:00.01274228096008301'),\n",
       " ('orang00t4_e', '0:00:00.01292610168457031'),\n",
       " ('orang00t4_b', '0:00:00.0131230354309082'),\n",
       " ('orang00t4_a', '0:00:00.01313185691833496'),\n",
       " ('orang00t4_i', '0:00:00.01323080062866211'),\n",
       " ('orang00t4_k', '0:00:00.01343059539794922'),\n",
       " ('orang00t4_l', '0:00:00.01357483863830566'),\n",
       " ('orang00t4_m', '0:00:00.01358890533447265'),\n",
       " ('orang00t4_', '0:00:00.01370596885681152')]"
      ]
     },
     "execution_count": 25,
     "metadata": {},
     "output_type": "execute_result"
    }
   ],
   "source": [
    "sorted(stash4.items(), key=lambda x: x[1])[-20:]"
   ]
  },
  {
   "cell_type": "markdown",
   "id": "fancy-container",
   "metadata": {},
   "source": [
    "## Testing the time difference with our long string\n",
    "\n",
    "\n",
    "This will take slightly longer for a 41 character string, but trivial on a modern laptop.\n",
    "\n",
    "\n",
    "mysecret = 'rMAwzI_52tVSvgKzRo3PJ0G7_Danw7jlaZ-6vTkOUiQ'"
   ]
  },
  {
   "cell_type": "code",
   "execution_count": 26,
   "id": "primary-passport",
   "metadata": {},
   "outputs": [
    {
     "name": "stdout",
     "output_type": "stream",
     "text": [
      "starting at: 2021-09-17 18:29:51.843824\n",
      "rM\n",
      "rMA\n",
      "rMAw\n",
      "rMAwz\n",
      "rMAwzI\n",
      "rMAwzI_\n",
      "rMAwzI_5\n",
      "rMAwzI_52\n",
      "rMAwzI_52t\n",
      "rMAwzI_52tV\n",
      "rMAwzI_52tVS\n",
      "rMAwzI_52tVSv\n",
      "rMAwzI_52tVSvg\n",
      "rMAwzI_52tVSvgK\n",
      "rMAwzI_52tVSvgKz\n",
      "rMAwzI_52tVSvgKzR\n",
      "rMAwzI_52tVSvgKzRo\n",
      "rMAwzI_52tVSvgKzRo3\n",
      "rMAwzI_52tVSvgKzRo3P\n",
      "rMAwzI_52tVSvgKzRo3PJ\n",
      "rMAwzI_52tVSvgKzRo3PJ0\n",
      "rMAwzI_52tVSvgKzRo3PJ0G\n",
      "rMAwzI_52tVSvgKzRo3PJ0G7\n",
      "rMAwzI_52tVSvgKzRo3PJ0G7_\n",
      "rMAwzI_52tVSvgKzRo3PJ0G7_D\n",
      "rMAwzI_52tVSvgKzRo3PJ0G7_Da\n",
      "rMAwzI_52tVSvgKzRo3PJ0G7_Dan\n",
      "rMAwzI_52tVSvgKzRo3PJ0G7_Danw\n",
      "rMAwzI_52tVSvgKzRo3PJ0G7_Danw7\n",
      "rMAwzI_52tVSvgKzRo3PJ0G7_Danw7j\n",
      "rMAwzI_52tVSvgKzRo3PJ0G7_Danw7jl\n",
      "rMAwzI_52tVSvgKzRo3PJ0G7_Danw7jla\n",
      "rMAwzI_52tVSvgKzRo3PJ0G7_Danw7jlaZ\n",
      "rMAwzI_52tVSvgKzRo3PJ0G7_Danw7jlaZ-\n",
      "rMAwzI_52tVSvgKzRo3PJ0G7_Danw7jlaZ-6\n",
      "rMAwzI_52tVSvgKzRo3PJ0G7_Danw7jlaZ-6v\n",
      "rMAwzI_52tVSvgKzRo3PJ0G7_Danw7jlaZ-6vT\n",
      "rMAwzI_52tVSvgKzRo3PJ0G7_Danw7jlaZ-6vTk\n",
      "rMAwzI_52tVSvgKzRo3PJ0G7_Danw7jlaZ-6vTkO\n",
      "rMAwzI_52tVSvgKzRo3PJ0G7_Danw7jlaZ-6vTkOU\n",
      "rMAwzI_52tVSvgKzRo3PJ0G7_Danw7jlaZ-6vTkOUi\n",
      "Name is rMAwzI_52tVSvgKzRo3PJ0G7_Danw7jlaZ-6vTkOUiQ\n",
      "Name is rMAwzI_52tVSvgKzRo3PJ0G7_Danw7jlaZ-6vTkOUiQ\n",
      "Finished. Total time: 0:02:11.95618581771850586\n"
     ]
    }
   ],
   "source": [
    "print('starting at:', datetime.now())\n",
    "runstart = attotime.attodatetime.now()\n",
    "stash5 = {}\n",
    "for c in valid_chars:\n",
    "    stub = c\n",
    "    for loop in range(0, len(mysecret)):\n",
    "        stublist = [stub + l for l in valid_chars]\n",
    "        for s in stublist:\n",
    "            start = attotime.attodatetime.now()\n",
    "            if compare1(s, mysecret):\n",
    "                if s == mysecret:\n",
    "                    print('Name is', s)\n",
    "                    break\n",
    "                else:\n",
    "                    end = attotime.attodatetime.now()\n",
    "                    duration = end - start\n",
    "                    stash5[s] = str(duration)\n",
    "                    print(s)\n",
    "                    stub = s\n",
    "                    break\n",
    "            else:\n",
    "                end = attotime.attodatetime.now()\n",
    "                duration = end - start\n",
    "                stash5[s] = str(duration)\n",
    "                pass\n",
    "runend = attotime.attodatetime.now()\n",
    "print('Finished. Total time:', runend - runstart)"
   ]
  },
  {
   "cell_type": "code",
   "execution_count": 27,
   "id": "opening-picking",
   "metadata": {},
   "outputs": [
    {
     "data": {
      "text/plain": [
       "[('wj', '0:00:00.00020766258239746'),\n",
       " ('W1', '0:00:00.00020790100097656'),\n",
       " ('wd', '0:00:00.00020885467529297'),\n",
       " ('wW', '0:00:00.00020885467529297'),\n",
       " ('w2', '0:00:00.00020885467529297')]"
      ]
     },
     "execution_count": 27,
     "metadata": {},
     "output_type": "execute_result"
    }
   ],
   "source": [
    "sorted(stash5.items(), key=lambda x: x[1])[:5]"
   ]
  },
  {
   "cell_type": "code",
   "execution_count": 28,
   "id": "opening-number",
   "metadata": {},
   "outputs": [
    {
     "data": {
      "text/plain": [
       "[('rMAwzI_52tVSvgKzRo3PJ0G7_Danw7jlaZ-6vTkOUiI', '0:00:00.05340313911437988'),\n",
       " ('rMAwzI_52tVSvgKzRo3PJ0G7_Danw7jlaZ-6vTkOUic', '0:00:00.05345988273620606'),\n",
       " ('rMAwzI_52tVSvgKzRo3PJ0G7_Danw7jlaZ-6vTkOUil', '0:00:00.05347490310668946'),\n",
       " ('rMAwzI_52tVSvgKzRo3PJ0G7_Danw7jlaZ-6vTkOUij', '0:00:00.05352807044982911'),\n",
       " ('rMAwzI_52tVSvgKzRo3PJ0G7_Danw7jlaZ-6vTkOUc', '0:00:00.05353784561157226'),\n",
       " ('rMAwzI_52tVSvgKzRo3PJ0G7_Danw7jlaZ-6vTkOUin', '0:00:00.05362987518310547'),\n",
       " ('rMAwzI_52tVSvgKzRo3PJ0G7_Danw7jlaZ-6vTkOUit', '0:00:00.05378103256225586'),\n",
       " ('rMAwzI_52tVSvgKzRo3PJ0G7_Danw7jlaZ-6vTkOUib', '0:00:00.05379605293273926'),\n",
       " ('rMAwzI_52tVSvgKzRo3PJ0G7_Danw7jlaZ-6vTkOUip', '0:00:00.05381107330322265'),\n",
       " ('rMAwzI_52tVSvgKzRo3PJ0G7_Danw7jlaZ-6vTkOUir', '0:00:00.05389690399169922'),\n",
       " ('rMAwzI_52tVSvgKzRo3PJ0G7_Danw7jlaZ-6vTkOUiM', '0:00:00.05401873588562012'),\n",
       " ('rMAwzI_52tVSvgKzRo3PJ0G7_Danw7jlaZ-6vTkOUiw', '0:00:00.05427503585815429'),\n",
       " ('rMAwzI_52tVSvgKzRo3PJ0G7_Danw7jlaZ-6vTkOUiG', '0:00:00.05428004264831543'),\n",
       " ('rMAwzI_52tVSvgKzRo3PJ0G7_Danw7jlaZ-6vTkOUg', '0:00:00.05505990982055665'),\n",
       " ('rMAwzI_52tVSvgKzRo3PJ0G7_Danw7jlaZ-6vTkOUio', '0:00:00.05537605285644531'),\n",
       " ('rMAwzI_52tVSvgKzRo3PJ0G7_Danb', '0:00:00.05628490447998047'),\n",
       " ('rMAwzI_52tVSvgKzRo3PJ0G7_Danw7jlaZ-6vTkOUi', '0:00:00.05629491806030273'),\n",
       " ('rMAwzI_52tVSvgKzRo3PJ0G7_Danw7jlaZ-6vTkOUb', '0:00:00.0577230453491211'),\n",
       " ('rMAwzI_52tVSvgKzRo3PJ0G7_Danw7jlaZ-6vTkH', '0:00:00.05944228172302246'),\n",
       " ('rMAwzI_52tVSvgKzRo3PJ0G7_Danw7jlaZ-6vTkG', '0:00:00.07227611541748046')]"
      ]
     },
     "execution_count": 28,
     "metadata": {},
     "output_type": "execute_result"
    }
   ],
   "source": [
    "sorted(stash5.items(), key=lambda x: x[1])[-20:]"
   ]
  },
  {
   "cell_type": "markdown",
   "id": "yellow-module",
   "metadata": {},
   "source": [
    "### How would this compare to hash comparison?\n",
    "\n",
    "This will start will the dictionary word 'apple'."
   ]
  },
  {
   "cell_type": "code",
   "execution_count": 29,
   "id": "extra-photographer",
   "metadata": {},
   "outputs": [],
   "source": [
    "def comparehash(token, secret):\n",
    "    \"\"\"\n",
    "    we're going to use the old md5 hash to simplify the demonstration\n",
    "    \"\"\"\n",
    "    htoken, hsecret = hashlib.md5(token.encode('utf-8')), hashlib.md5(secret.encode('utf-8'))\n",
    "    one, two = list(htoken.hexdigest()), list(hsecret.hexdigest())\n",
    "    for x in range(0,len(one)):\n",
    "        if one[x] == two[x]:\n",
    "            time.sleep(.001)\n",
    "            pass\n",
    "        else:\n",
    "            return False\n",
    "    return True"
   ]
  },
  {
   "cell_type": "code",
   "execution_count": 30,
   "id": "level-tobago",
   "metadata": {},
   "outputs": [],
   "source": [
    "totals=[]\n",
    "for loop in range(1000):\n",
    "    stash10 = {}\n",
    "    for l in valid_chars:\n",
    "        mystr = l *10\n",
    "        start = attotime.attodatetime.now()\n",
    "        comparehash(mystr, mysecret)\n",
    "        end = attotime.attodatetime.now()\n",
    "        duration = end - start\n",
    "        stash10[mystr] = str(duration)"
   ]
  },
  {
   "cell_type": "code",
   "execution_count": 31,
   "id": "labeled-cement",
   "metadata": {},
   "outputs": [
    {
     "data": {
      "text/plain": [
       "[('vvvvvvvvvv', '0:00:00.00034904479980469'),\n",
       " ('VVVVVVVVVV', '0:00:00.00035595893859863'),\n",
       " ('FFFFFFFFFF', '0:00:00.00036096572875976'),\n",
       " ('8888888888', '0:00:00.00036215782165528'),\n",
       " ('YYYYYYYYYY', '0:00:00.00037193298339844'),\n",
       " ('rrrrrrrrrr', '0:00:00.00045371055603027'),\n",
       " ('9999999999', '0:00:00.00048375129699707'),\n",
       " ('tttttttttt', '0:00:00.00051307678222656'),\n",
       " ('uuuuuuuuuu', '0:00:00.00054621696472168'),\n",
       " ('hhhhhhhhhh', '0:00:00.00150609016418457')]"
      ]
     },
     "execution_count": 31,
     "metadata": {},
     "output_type": "execute_result"
    }
   ],
   "source": [
    "sorted(stash10.items(), key=lambda x: x[1])[-10:]"
   ]
  },
  {
   "cell_type": "code",
   "execution_count": 32,
   "id": "coated-wrapping",
   "metadata": {},
   "outputs": [],
   "source": [
    "df10 = pd.DataFrame(stash10.items())"
   ]
  },
  {
   "cell_type": "code",
   "execution_count": 33,
   "id": "illegal-expansion",
   "metadata": {},
   "outputs": [],
   "source": [
    "df10.columns = ['string', 'duration']"
   ]
  },
  {
   "cell_type": "code",
   "execution_count": 34,
   "id": "surgical-electricity",
   "metadata": {},
   "outputs": [],
   "source": [
    "df10['duration'] = df10['duration'].apply(fixtimes)"
   ]
  },
  {
   "cell_type": "markdown",
   "id": "removed-waste",
   "metadata": {},
   "source": [
    "**It's easy to see how much flatter the response times are**"
   ]
  },
  {
   "cell_type": "code",
   "execution_count": 35,
   "id": "going-monaco",
   "metadata": {},
   "outputs": [
    {
     "data": {
      "text/plain": [
       "Text(0, 0.5, 'duration')"
      ]
     },
     "execution_count": 35,
     "metadata": {},
     "output_type": "execute_result"
    },
    {
     "data": {
      "image/png": "[encoded data removed]",
      "text/plain": [
       "<Figure size 1296x432 with 1 Axes>"
      ]
     },
     "metadata": {},
     "output_type": "display_data"
    }
   ],
   "source": [
    "ax = df10.plot(figsize=(18,6))\n",
    "df10[df10['duration']> .000222]['duration'].plot(figsize=(18,6))\n",
    "# not mapping strings to duration correctly\n",
    "plt.xticks(rotation=45)\n",
    "ax.set_xticklabels(df[df['duration']> .000222]['string'])\n",
    "#ax.set_xticklabels(df.string.to_list())\n",
    "# not working as I expected\n",
    "# ax.set_xlabel(df.string.to_list())\n",
    "ax.set_xlabel('string')\n",
    "ax.set_ylabel('duration')"
   ]
  },
  {
   "cell_type": "code",
   "execution_count": 36,
   "id": "illegal-courage",
   "metadata": {},
   "outputs": [
    {
     "data": {
      "text/plain": [
       "<AxesSubplot:xlabel='duration', ylabel='Density'>"
      ]
     },
     "execution_count": 36,
     "metadata": {},
     "output_type": "execute_result"
    },
    {
     "data": {
      "image/png": "[encoded data removed]",
      "text/plain": [
       "<Figure size 1296x432 with 1 Axes>"
      ]
     },
     "metadata": {},
     "output_type": "display_data"
    }
   ],
   "source": [
    "sns.set(rc={'figure.figsize':(18,6)})\n",
    "plt.xticks(rotation=45)\n",
    "sns.distplot(df10['duration'],bins=150, rug=True, kde=True)"
   ]
  },
  {
   "cell_type": "markdown",
   "id": "higher-volleyball",
   "metadata": {},
   "source": [
    "## How does this compare to a constant time return?\n",
    "\n",
    "Now lets add a buffer of time to the outputs. I don't "
   ]
  },
  {
   "cell_type": "code",
   "execution_count": 37,
   "id": "secondary-factor",
   "metadata": {},
   "outputs": [],
   "source": [
    "def comparehashconstant(token, secret):\n",
    "    \"\"\"\n",
    "    we're going to use the old md5 hash to simplify the demonstration\n",
    "    and add a wait before returning either a match or a failure.\n",
    "    Buffering in a dumb way, but this should make it harder to determine the validity of a guess.\n",
    "    \"\"\"\n",
    "    htoken, hsecret = hashlib.md5(token.encode('utf-8')), hashlib.md5(secret.encode('utf-8'))\n",
    "    one, two = list(htoken.hexdigest()), list(hsecret.hexdigest())\n",
    "    for x in range(0,len(one)):\n",
    "        if one[x] == two[x]:\n",
    "            time.sleep(.001)\n",
    "            pass\n",
    "        else:\n",
    "            time.sleep(.02)\n",
    "            return False\n",
    "    time.sleep(.01)\n",
    "    return True"
   ]
  },
  {
   "cell_type": "code",
   "execution_count": 38,
   "id": "marked-quantity",
   "metadata": {},
   "outputs": [],
   "source": [
    "totals=[]\n",
    "for loop in range(1000):\n",
    "    stash11 = {}\n",
    "    for l in valid_chars:\n",
    "        mystr = l *10\n",
    "        start = attotime.attodatetime.now()\n",
    "        comparehashconstant(mystr, mysecret)\n",
    "        end = attotime.attodatetime.now()\n",
    "        duration = end - start\n",
    "        stash11[mystr] = str(duration)"
   ]
  },
  {
   "cell_type": "code",
   "execution_count": 39,
   "id": "radical-sugar",
   "metadata": {},
   "outputs": [
    {
     "data": {
      "text/plain": [
       "[('2222222222', '0:00:00.0242149829864502'),\n",
       " ('OOOOOOOOOO', '0:00:00.0242161750793457'),\n",
       " ('VVVVVVVVVV', '0:00:00.02432489395141602'),\n",
       " ('KKKKKKKKKK', '0:00:00.0244133472442627'),\n",
       " ('XXXXXXXXXX', '0:00:00.0247349739074707'),\n",
       " ('pppppppppp', '0:00:00.02481603622436524'),\n",
       " ('FFFFFFFFFF', '0:00:00.02485299110412598'),\n",
       " ('__________', '0:00:00.02506589889526367'),\n",
       " ('nnnnnnnnnn', '0:00:00.02530097961425781'),\n",
       " ('xxxxxxxxxx', '0:00:00.02539587020874024')]"
      ]
     },
     "execution_count": 39,
     "metadata": {},
     "output_type": "execute_result"
    }
   ],
   "source": [
    "sorted(stash11.items(), key=lambda x: x[1])[-10:]"
   ]
  },
  {
   "cell_type": "code",
   "execution_count": 40,
   "id": "covered-sculpture",
   "metadata": {},
   "outputs": [
    {
     "data": {
      "text/html": [
       "<div>\n",
       "<style scoped>\n",
       "    .dataframe tbody tr th:only-of-type {\n",
       "        vertical-align: middle;\n",
       "    }\n",
       "\n",
       "    .dataframe tbody tr th {\n",
       "        vertical-align: top;\n",
       "    }\n",
       "\n",
       "    .dataframe thead th {\n",
       "        text-align: right;\n",
       "    }\n",
       "</style>\n",
       "<table border=\"1\" class=\"dataframe\">\n",
       "  <thead>\n",
       "    <tr style=\"text-align: right;\">\n",
       "      <th></th>\n",
       "      <th>string</th>\n",
       "      <th>duration</th>\n",
       "    </tr>\n",
       "  </thead>\n",
       "  <tbody>\n",
       "    <tr>\n",
       "      <th>17</th>\n",
       "      <td>rrrrrrrrrr</td>\n",
       "      <td>0.000454</td>\n",
       "    </tr>\n",
       "  </tbody>\n",
       "</table>\n",
       "</div>"
      ],
      "text/plain": [
       "        string  duration\n",
       "17  rrrrrrrrrr  0.000454"
      ]
     },
     "execution_count": 40,
     "metadata": {},
     "output_type": "execute_result"
    }
   ],
   "source": [
    "df10[df10['string'] == 'rrrrrrrrrr']"
   ]
  },
  {
   "cell_type": "code",
   "execution_count": 41,
   "id": "labeled-certification",
   "metadata": {},
   "outputs": [],
   "source": [
    "df11 = pd.DataFrame(stash11.items())"
   ]
  },
  {
   "cell_type": "code",
   "execution_count": 42,
   "id": "declared-solution",
   "metadata": {},
   "outputs": [],
   "source": [
    "df11.columns = ['string', 'duration']"
   ]
  },
  {
   "cell_type": "code",
   "execution_count": 43,
   "id": "behind-archive",
   "metadata": {},
   "outputs": [],
   "source": [
    "df11['duration'] = df11['duration'].apply(fixtimes)"
   ]
  },
  {
   "cell_type": "markdown",
   "id": "comprehensive-period",
   "metadata": {},
   "source": [
    "**The plots are all over the place, but none of the top 10 chars are 'r'. First letter guessing is obfuscated.**\n",
    "\n",
    "first letter 'r' is the 17th hit. "
   ]
  },
  {
   "cell_type": "code",
   "execution_count": 44,
   "id": "improving-vocabulary",
   "metadata": {},
   "outputs": [
    {
     "data": {
      "text/plain": [
       "'rMAwzI_52tVSvgKzRo3PJ0G7_Danw7jlaZ-6vTkOUiQ'"
      ]
     },
     "execution_count": 44,
     "metadata": {},
     "output_type": "execute_result"
    }
   ],
   "source": [
    "mysecret"
   ]
  },
  {
   "cell_type": "code",
   "execution_count": 45,
   "id": "acting-factory",
   "metadata": {},
   "outputs": [
    {
     "data": {
      "text/html": [
       "<div>\n",
       "<style scoped>\n",
       "    .dataframe tbody tr th:only-of-type {\n",
       "        vertical-align: middle;\n",
       "    }\n",
       "\n",
       "    .dataframe tbody tr th {\n",
       "        vertical-align: top;\n",
       "    }\n",
       "\n",
       "    .dataframe thead th {\n",
       "        text-align: right;\n",
       "    }\n",
       "</style>\n",
       "<table border=\"1\" class=\"dataframe\">\n",
       "  <thead>\n",
       "    <tr style=\"text-align: right;\">\n",
       "      <th></th>\n",
       "      <th>string</th>\n",
       "      <th>duration</th>\n",
       "    </tr>\n",
       "  </thead>\n",
       "  <tbody>\n",
       "    <tr>\n",
       "      <th>23</th>\n",
       "      <td>xxxxxxxxxx</td>\n",
       "      <td>0.025396</td>\n",
       "    </tr>\n",
       "    <tr>\n",
       "      <th>13</th>\n",
       "      <td>nnnnnnnnnn</td>\n",
       "      <td>0.025301</td>\n",
       "    </tr>\n",
       "    <tr>\n",
       "      <th>63</th>\n",
       "      <td>__________</td>\n",
       "      <td>0.025066</td>\n",
       "    </tr>\n",
       "    <tr>\n",
       "      <th>31</th>\n",
       "      <td>FFFFFFFFFF</td>\n",
       "      <td>0.024853</td>\n",
       "    </tr>\n",
       "    <tr>\n",
       "      <th>15</th>\n",
       "      <td>pppppppppp</td>\n",
       "      <td>0.024816</td>\n",
       "    </tr>\n",
       "    <tr>\n",
       "      <th>49</th>\n",
       "      <td>XXXXXXXXXX</td>\n",
       "      <td>0.024735</td>\n",
       "    </tr>\n",
       "    <tr>\n",
       "      <th>36</th>\n",
       "      <td>KKKKKKKKKK</td>\n",
       "      <td>0.024413</td>\n",
       "    </tr>\n",
       "    <tr>\n",
       "      <th>47</th>\n",
       "      <td>VVVVVVVVVV</td>\n",
       "      <td>0.024325</td>\n",
       "    </tr>\n",
       "    <tr>\n",
       "      <th>40</th>\n",
       "      <td>OOOOOOOOOO</td>\n",
       "      <td>0.024216</td>\n",
       "    </tr>\n",
       "    <tr>\n",
       "      <th>54</th>\n",
       "      <td>2222222222</td>\n",
       "      <td>0.024215</td>\n",
       "    </tr>\n",
       "  </tbody>\n",
       "</table>\n",
       "</div>"
      ],
      "text/plain": [
       "        string  duration\n",
       "23  xxxxxxxxxx  0.025396\n",
       "13  nnnnnnnnnn  0.025301\n",
       "63  __________  0.025066\n",
       "31  FFFFFFFFFF  0.024853\n",
       "15  pppppppppp  0.024816\n",
       "49  XXXXXXXXXX  0.024735\n",
       "36  KKKKKKKKKK  0.024413\n",
       "47  VVVVVVVVVV  0.024325\n",
       "40  OOOOOOOOOO  0.024216\n",
       "54  2222222222  0.024215"
      ]
     },
     "execution_count": 45,
     "metadata": {},
     "output_type": "execute_result"
    }
   ],
   "source": [
    "df11.sort_values(by='duration', ascending=False)[:10]"
   ]
  },
  {
   "cell_type": "code",
   "execution_count": 46,
   "id": "crude-census",
   "metadata": {},
   "outputs": [
    {
     "data": {
      "text/html": [
       "<div>\n",
       "<style scoped>\n",
       "    .dataframe tbody tr th:only-of-type {\n",
       "        vertical-align: middle;\n",
       "    }\n",
       "\n",
       "    .dataframe tbody tr th {\n",
       "        vertical-align: top;\n",
       "    }\n",
       "\n",
       "    .dataframe thead th {\n",
       "        text-align: right;\n",
       "    }\n",
       "</style>\n",
       "<table border=\"1\" class=\"dataframe\">\n",
       "  <thead>\n",
       "    <tr style=\"text-align: right;\">\n",
       "      <th></th>\n",
       "      <th>string</th>\n",
       "      <th>duration</th>\n",
       "    </tr>\n",
       "  </thead>\n",
       "  <tbody>\n",
       "    <tr>\n",
       "      <th>17</th>\n",
       "      <td>rrrrrrrrrr</td>\n",
       "      <td>0.024012</td>\n",
       "    </tr>\n",
       "  </tbody>\n",
       "</table>\n",
       "</div>"
      ],
      "text/plain": [
       "        string  duration\n",
       "17  rrrrrrrrrr  0.024012"
      ]
     },
     "execution_count": 46,
     "metadata": {},
     "output_type": "execute_result"
    }
   ],
   "source": [
    "df11[df11['string'] == 'rrrrrrrrrr']"
   ]
  },
  {
   "cell_type": "code",
   "execution_count": 47,
   "id": "remarkable-stand",
   "metadata": {},
   "outputs": [
    {
     "data": {
      "text/plain": [
       "Text(0, 0.5, 'duration')"
      ]
     },
     "execution_count": 47,
     "metadata": {},
     "output_type": "execute_result"
    },
    {
     "data": {
      "image/png": "[encoded data removed]",
      "text/plain": [
       "<Figure size 1296x432 with 1 Axes>"
      ]
     },
     "metadata": {},
     "output_type": "display_data"
    }
   ],
   "source": [
    "ax = df11.plot(figsize=(18,6))\n",
    "df11['duration'].plot(figsize=(18,6))\n",
    "# not mapping strings to duration correctly\n",
    "plt.xticks(rotation=45)\n",
    "ax.set_xticklabels(df11['string'])\n",
    "#ax.set_xticklabels(df.string.to_list())\n",
    "# not working as I expected\n",
    "# ax.set_xlabel(df.string.to_list())\n",
    "ax.set_xlabel('string')\n",
    "ax.set_ylabel('duration')"
   ]
  },
  {
   "cell_type": "code",
   "execution_count": 48,
   "id": "small-assessment",
   "metadata": {},
   "outputs": [
    {
     "data": {
      "text/plain": [
       "<AxesSubplot:xlabel='duration', ylabel='Density'>"
      ]
     },
     "execution_count": 48,
     "metadata": {},
     "output_type": "execute_result"
    },
    {
     "data": {
      "image/png": "[encoded data removed]",
      "text/plain": [
       "<Figure size 1296x432 with 1 Axes>"
      ]
     },
     "metadata": {},
     "output_type": "display_data"
    }
   ],
   "source": [
    "sns.set(rc={'figure.figsize':(18,6)})\n",
    "plt.xticks(rotation=45)\n",
    "sns.distplot(df11['duration'],bins=150, rug=True, kde=True)"
   ]
  },
  {
   "cell_type": "code",
   "execution_count": null,
   "id": "d6f3d76b",
   "metadata": {},
   "outputs": [],
   "source": []
  }
 ],
 "metadata": {
  "kernelspec": {
   "display_name": "Python 3",
   "language": "python",
   "name": "python3"
  },
  "language_info": {
   "codemirror_mode": {
    "name": "ipython",
    "version": 3
   },
   "file_extension": ".py",
   "mimetype": "text/x-python",
   "name": "python",
   "nbconvert_exporter": "python",
   "pygments_lexer": "ipython3",
   "version": "3.9.5"
  }
 },
 "nbformat": 4,
 "nbformat_minor": 5
}
