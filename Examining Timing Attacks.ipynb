{
 "cells": [
  {
   "cell_type": "markdown",
   "id": "collect-knight",
   "metadata": {},
   "source": [
    "## Examining timing side-channel attacks\n",
    "\n",
    "The idea is to show that time analysis can reveal meaningful information about a string used in a secret or a password if the amount of time it takes to perform the string match isn't buffered. \n",
    "\n",
    "The example will be to show how the libc strcmp method reveals information about a secret string and, possibly, the string itself in a brute force attack. We'll be using python code to demonstrate the action and analysis, but this can be performed with any language that uses similar methods.\n",
    "\n",
    "\n",
    "Our secret string is 'apple'.\n",
    "\n",
    "A client presents the secret string to the server, who knows the secret string, in an operation that will fail if the secret is incorrect.\n",
    "\n",
    "So:\n",
    "\n",
    "Client -> 'apple' -> Server  \n",
    "\n",
    "Server: \n",
    "- receives a buffer containing the string. \n",
    "- gets a copy of the secret \n",
    "- strcmp's the two strings\n",
    "    - analyze bytes from l to r\n",
    "    - when a byte fails, return False\n",
    "    - if no bytes fail return True\n",
    "- return the outcome to the client\n",
    "\n",
    "The problem is that for every correct chunk of text on the LHS the \"fail\" takes longer to return. \n",
    "\n",
    "So \"b\" or \"broken\" returns a failure instantly, but a, aplomb, app, application, etc will each take slightly longer for each character matched. The times are tiny, but it's possible to model the jitter windows such that these lengths don't get lost in the noise. This can drastically cut down the time of a brute force attack.\n",
    "\n",
    "TL;DR - using sound hash functions which return in a constant time and not rolling-your-own solves this problem.\n",
    "\n",
    "Also: for authentication purposes it's an antipattern to store the secret plaintext or decode an encrypted secret to compare in plaintext. Hashing the secret, storing the hash then comparing the hashes also obscures the size of your secret by making the compared strings the same lengh, and increasing the problem for a brute force attack."
   ]
  },
  {
   "cell_type": "code",
   "execution_count": 1,
   "id": "solved-arbitration",
   "metadata": {},
   "outputs": [],
   "source": [
    "# need to use attotime here to get fractional nanoseconds\n",
    "import sys, os, time, string, attotime, secrets\n",
    "from datetime import datetime\n",
    "\n",
    "# imports\n",
    "import pandas as pd\n",
    "import numpy as np\n",
    "\n",
    "# Viz imports\n",
    "import matplotlib.pyplot as plt\n",
    "import seaborn as sns\n",
    "\n",
    "# Config matplotlib\n",
    "%matplotlib inline\n",
    "plt.rcParams[\"patch.force_edgecolor\"] = True # in matplotlib, edge borders are turned off by default.\n",
    "sns.set_style(\"darkgrid\") # set a grey grid as a background\n",
    "\n",
    "# turn off warnings\n",
    "import warnings\n",
    "warnings.filterwarnings('ignore')\n"
   ]
  },
  {
   "cell_type": "code",
   "execution_count": 2,
   "id": "seeing-prophet",
   "metadata": {},
   "outputs": [],
   "source": [
    "# we only care about urlsafe characters - alpha, numeric, dash and underscore. Omitting . and ~ (RFC 3986)\n",
    "valid_chars = list(string.ascii_letters)\n",
    "for x in range(0,10):\n",
    "    valid_chars.append(str(x))\n",
    "valid_chars.append('-')\n",
    "valid_chars.append('_')"
   ]
  },
  {
   "cell_type": "code",
   "execution_count": 3,
   "id": "bridal-picking",
   "metadata": {},
   "outputs": [],
   "source": [
    "def compare1(str1, str2):\n",
    "    \"\"\"\n",
    "    Here we're going to amplify the lib strcmp delays to make the weakness easier to analyze:\n",
    "    1. evaluate strings l-to-r\n",
    "    2. dope a positive match with a tiny wait to emphasize the delay for demonstration\n",
    "    3. return a False match immediately\n",
    "    \"\"\"\n",
    "\n",
    "    one, two = list(str1), list(str2)\n",
    "    for x in range(0,len(one)):\n",
    "        if one[x] == two[x]:\n",
    "            time.sleep(.001)\n",
    "            pass\n",
    "        else:\n",
    "            return False\n",
    "    return True"
   ]
  },
  {
   "cell_type": "markdown",
   "id": "athletic-nightlife",
   "metadata": {},
   "source": [
    "### First example - guess the first letter\n",
    "\n",
    "Here we'll just run through each letter 1k times adding completion time to an arry. Then we'll find the longest run of the letters"
   ]
  },
  {
   "cell_type": "code",
   "execution_count": 4,
   "id": "awful-rebate",
   "metadata": {},
   "outputs": [],
   "source": [
    "# in a long string we just want to guess the first character\n",
    "# mysecret = secrets.token_urlsafe()\n",
    "mysecret = 'rMAwzI_52tVSvgKzRo3PJ0G7_Danw7jlaZ-6vTkOUiQ'"
   ]
  },
  {
   "cell_type": "code",
   "execution_count": 5,
   "id": "reduced-electric",
   "metadata": {},
   "outputs": [],
   "source": [
    "totals=[]\n",
    "for loop in range(1000):\n",
    "    stash = {}\n",
    "    for l in valid_chars:\n",
    "        mystr = l *10\n",
    "        start = attotime.attodatetime.now()\n",
    "        compare1(mystr, mysecret)\n",
    "        end = attotime.attodatetime.now()\n",
    "        duration = end - start\n",
    "        stash[mystr] = str(duration)"
   ]
  },
  {
   "cell_type": "code",
   "execution_count": 6,
   "id": "labeled-advancement",
   "metadata": {},
   "outputs": [
    {
     "data": {
      "text/plain": [
       "[('dddddddddd', '0:00:00.00020599365234375'),\n",
       " ('bbbbbbbbbb', '0:00:00.00020694732666016'),\n",
       " ('WWWWWWWWWW', '0:00:00.00020694732666016'),\n",
       " ('TTTTTTTTTT', '0:00:00.00020790100097657'),\n",
       " ('eeeeeeeeee', '0:00:00.00020813941955566'),\n",
       " ('5555555555', '0:00:00.00020813941955566'),\n",
       " ('XXXXXXXXXX', '0:00:00.00020885467529296'),\n",
       " ('aaaaaaaaaa', '0:00:00.00020885467529297'),\n",
       " ('mmmmmmmmmm', '0:00:00.00020885467529297'),\n",
       " ('EEEEEEEEEE', '0:00:00.00020885467529297')]"
      ]
     },
     "execution_count": 6,
     "metadata": {},
     "output_type": "execute_result"
    }
   ],
   "source": [
    "# fastest\n",
    "sorted(stash.items(), key=lambda x: x[1])[:10]"
   ]
  },
  {
   "cell_type": "code",
   "execution_count": 65,
   "id": "casual-remark",
   "metadata": {},
   "outputs": [
    {
     "data": {
      "text/plain": [
       "[('1111111111', '0:00:00.00022602081298828'),\n",
       " ('ssssssssss', '0:00:00.00022625923156738'),\n",
       " ('LLLLLLLLLL', '0:00:00.00023078918457031'),\n",
       " ('vvvvvvvvvv', '0:00:00.00023508071899414'),\n",
       " ('2222222222', '0:00:00.00024485588073731'),\n",
       " ('tttttttttt', '0:00:00.00024771690368653'),\n",
       " ('jjjjjjjjjj', '0:00:00.00026607513427734'),\n",
       " ('gggggggggg', '0:00:00.0002748966217041'),\n",
       " ('uuuuuuuuuu', '0:00:00.00043892860412598'),\n",
       " ('rrrrrrrrrr', '0:00:00.00159287452697754')]"
      ]
     },
     "execution_count": 65,
     "metadata": {},
     "output_type": "execute_result"
    }
   ],
   "source": [
    "# slowest returns at the bottom\n",
    "#note how much slower lower case rrrrrrrrrr (leading character match) is compared to the rest\n",
    "sorted(stash.items(), key=lambda x: x[1])[-10:]"
   ]
  },
  {
   "cell_type": "markdown",
   "id": "faced-parade",
   "metadata": {},
   "source": [
    "### visualize"
   ]
  },
  {
   "cell_type": "code",
   "execution_count": 54,
   "id": "adjusted-yeast",
   "metadata": {},
   "outputs": [],
   "source": [
    "df = pd.DataFrame(stash.items())"
   ]
  },
  {
   "cell_type": "code",
   "execution_count": 55,
   "id": "fresh-configuration",
   "metadata": {},
   "outputs": [],
   "source": [
    "# change the column names \n",
    "df.columns = ['string', 'duration']"
   ]
  },
  {
   "cell_type": "code",
   "execution_count": 59,
   "id": "disabled-health",
   "metadata": {},
   "outputs": [],
   "source": [
    "def fixtimes(time):\n",
    "    if isinstance(time, str):\n",
    "        return float(time.split(':')[2])"
   ]
  },
  {
   "cell_type": "code",
   "execution_count": 60,
   "id": "material-precipitation",
   "metadata": {},
   "outputs": [],
   "source": [
    "# change duration strings to be integers. only use the fractional nanoseconds in this case\n",
    "df['duration'] = df['duration'].apply(fixtimes)"
   ]
  },
  {
   "cell_type": "code",
   "execution_count": 61,
   "id": "black-syntax",
   "metadata": {},
   "outputs": [
    {
     "name": "stdout",
     "output_type": "stream",
     "text": [
      "<class 'pandas.core.frame.DataFrame'>\n",
      "RangeIndex: 64 entries, 0 to 63\n",
      "Data columns (total 2 columns):\n",
      " #   Column    Non-Null Count  Dtype  \n",
      "---  ------    --------------  -----  \n",
      " 0   string    64 non-null     object \n",
      " 1   duration  64 non-null     float64\n",
      "dtypes: float64(1), object(1)\n",
      "memory usage: 1.1+ KB\n"
     ]
    }
   ],
   "source": [
    "df.info()"
   ]
  },
  {
   "cell_type": "code",
   "execution_count": 62,
   "id": "magnetic-operation",
   "metadata": {},
   "outputs": [
    {
     "data": {
      "text/html": [
       "<div>\n",
       "<style scoped>\n",
       "    .dataframe tbody tr th:only-of-type {\n",
       "        vertical-align: middle;\n",
       "    }\n",
       "\n",
       "    .dataframe tbody tr th {\n",
       "        vertical-align: top;\n",
       "    }\n",
       "\n",
       "    .dataframe thead th {\n",
       "        text-align: right;\n",
       "    }\n",
       "</style>\n",
       "<table border=\"1\" class=\"dataframe\">\n",
       "  <thead>\n",
       "    <tr style=\"text-align: right;\">\n",
       "      <th></th>\n",
       "      <th>string</th>\n",
       "      <th>duration</th>\n",
       "    </tr>\n",
       "  </thead>\n",
       "  <tbody>\n",
       "    <tr>\n",
       "      <th>0</th>\n",
       "      <td>aaaaaaaaaa</td>\n",
       "      <td>0.000209</td>\n",
       "    </tr>\n",
       "    <tr>\n",
       "      <th>1</th>\n",
       "      <td>bbbbbbbbbb</td>\n",
       "      <td>0.000207</td>\n",
       "    </tr>\n",
       "    <tr>\n",
       "      <th>2</th>\n",
       "      <td>cccccccccc</td>\n",
       "      <td>0.000210</td>\n",
       "    </tr>\n",
       "  </tbody>\n",
       "</table>\n",
       "</div>"
      ],
      "text/plain": [
       "       string  duration\n",
       "0  aaaaaaaaaa  0.000209\n",
       "1  bbbbbbbbbb  0.000207\n",
       "2  cccccccccc  0.000210"
      ]
     },
     "execution_count": 62,
     "metadata": {},
     "output_type": "execute_result"
    }
   ],
   "source": [
    "df.head(3)"
   ]
  },
  {
   "cell_type": "markdown",
   "id": "dynamic-plaza",
   "metadata": {},
   "source": [
    "**the plot**"
   ]
  },
  {
   "cell_type": "code",
   "execution_count": 66,
   "id": "promising-validation",
   "metadata": {},
   "outputs": [
    {
     "data": {
      "text/plain": [
       "Text(0, 0.5, 'duration')"
      ]
     },
     "execution_count": 66,
     "metadata": {},
     "output_type": "execute_result"
    },
    {
     "data": {
      "image/png": "[encoded data removed]",
      "text/plain": [
       "<Figure size 1296x432 with 1 Axes>"
      ]
     },
     "metadata": {},
     "output_type": "display_data"
    }
   ],
   "source": [
    "ax = df.plot(figsize=(18,6))\n",
    "plt.xticks(rotation=45)\n",
    "#ax.set_xticklabels(df.string)\n",
    "ax.set_xlabel('string')\n",
    "ax.set_ylabel('duration')"
   ]
  },
  {
   "cell_type": "code",
   "execution_count": 87,
   "id": "palestinian-secretary",
   "metadata": {},
   "outputs": [
    {
     "data": {
      "text/plain": [
       "<AxesSubplot:xlabel='duration', ylabel='Density'>"
      ]
     },
     "execution_count": 87,
     "metadata": {},
     "output_type": "execute_result"
    },
    {
     "data": {
      "image/png": "[encoded data removed]",
      "text/plain": [
       "<Figure size 1296x432 with 1 Axes>"
      ]
     },
     "metadata": {},
     "output_type": "display_data"
    }
   ],
   "source": [
    "sns.set(rc={'figure.figsize':(18,6)})\n",
    "plt.xticks(rotation=45)\n",
    "sns.distplot(df[df['duration']> .000222]['duration'],bins=150, rug=True, kde=True)"
   ]
  },
  {
   "cell_type": "markdown",
   "id": "senior-aging",
   "metadata": {},
   "source": [
    "## example of brute force strcmp analysis attacks \n",
    "\n",
    "Here's a dictionary matcher"
   ]
  },
  {
   "cell_type": "code",
   "execution_count": null,
   "id": "about-attack",
   "metadata": {},
   "outputs": [],
   "source": [
    "# get a built-in dictionary\n",
    "wordsraw = open('/usr/share/dict/words','r').readlines()\n",
    "[x.strip('\\n') for x in wordsraw]\n",
    "words = [x.strip('\\n') for x in wordsraw]"
   ]
  },
  {
   "cell_type": "code",
   "execution_count": null,
   "id": "small-buying",
   "metadata": {},
   "outputs": [],
   "source": [
    "# set our name as 'apple'\n",
    "name='apple'\n",
    "# a longer one\n",
    "name2 = 'unresourcefulness'"
   ]
  },
  {
   "cell_type": "markdown",
   "id": "sorted-complexity",
   "metadata": {},
   "source": [
    "**This takes a long time to run**"
   ]
  },
  {
   "cell_type": "code",
   "execution_count": null,
   "id": "informal-registration",
   "metadata": {},
   "outputs": [],
   "source": [
    "stash2 = {}\n",
    "print(datetime.now())\n",
    "runstart = attotime.attodatetime.now()\n",
    "for w in range(0,len(words)):\n",
    "    start = attotime.attodatetime.now()\n",
    "    if compare1(words[w], name):\n",
    "            if compare1(s, name):\n",
    "                if words[w] == name:\n",
    "                    print('Name is', words[w])\n",
    "                    break\n",
    "            else:\n",
    "                end = attotime.attodatetime.now()\n",
    "                duration = end - start\n",
    "                stash2[s] = str(duration)\n",
    "                print(s)\n",
    "                stub = s\n",
    "                break\n",
    "    else:\n",
    "        end = attotime.attodatetime.now()\n",
    "        duration = end - start\n",
    "        stash2[s] = str(duration)\n",
    "        pass\n",
    "print(runend - runstart)"
   ]
  },
  {
   "cell_type": "code",
   "execution_count": null,
   "id": "mediterranean-helmet",
   "metadata": {},
   "outputs": [],
   "source": [
    "sorted(stash2.items(),key=lambda x: x[1])[:5]"
   ]
  },
  {
   "cell_type": "code",
   "execution_count": null,
   "id": "cloudy-lounge",
   "metadata": {},
   "outputs": [],
   "source": [
    "compare1('adam',name)"
   ]
  },
  {
   "cell_type": "code",
   "execution_count": null,
   "id": "supposed-slave",
   "metadata": {},
   "outputs": [],
   "source": [
    "\n",
    "stash3 = {}\n",
    "for c in valid_chars:\n",
    "    stub = c\n",
    "    for loop in range(0, len(name)):\n",
    "        stublist = [stub + l for l in valid_chars]\n",
    "        for s in stublist:\n",
    "            start = attotime.attodatetime.now()\n",
    "            if compare1(s, name):\n",
    "                if s == name:\n",
    "                    print('Name is', s)\n",
    "                    break\n",
    "                else:\n",
    "                    end = attotime.attodatetime.now()\n",
    "                    duration = end - start\n",
    "                    stash3[s] = str(duration)\n",
    "                    print(s)\n",
    "                    stub = s\n",
    "                    break\n",
    "            else:\n",
    "                end = attotime.attodatetime.now()\n",
    "                duration = end - start\n",
    "                stash3[s] = str(duration)\n",
    "                pass"
   ]
  },
  {
   "cell_type": "code",
   "execution_count": null,
   "id": "sitting-therapy",
   "metadata": {},
   "outputs": [],
   "source": [
    "sorted(stash2.items(), key=lambda x: x[1])[-10:]"
   ]
  },
  {
   "cell_type": "markdown",
   "id": "falling-knowing",
   "metadata": {},
   "source": [
    "**and a modified dictionary word**"
   ]
  },
  {
   "cell_type": "code",
   "execution_count": 17,
   "id": "broad-theater",
   "metadata": {},
   "outputs": [
    {
     "name": "stdout",
     "output_type": "stream",
     "text": [
      "or\n",
      "ora\n",
      "oran\n",
      "orang\n",
      "orang0\n",
      "orang00\n",
      "orang00t\n",
      "orang00t4\n",
      "orang00t4_\n",
      "Name is orang00t4_n\n",
      "Name is orang00t4_n\n"
     ]
    },
    {
     "data": {
      "text/plain": [
       "[('orang00t4_a', '0:00:00.01315021514892578'),\n",
       " ('orang00t4_e', '0:00:00.01316189765930176'),\n",
       " ('orang00t4_m', '0:00:00.01348590850830078'),\n",
       " ('orang00t4_g', '0:00:00.01363611221313477'),\n",
       " ('orang00t4_h', '0:00:00.01377582550048828'),\n",
       " ('orang00t4_j', '0:00:00.01377701759338379'),\n",
       " ('orang00t4_k', '0:00:00.01378893852233887'),\n",
       " ('orang00t4_', '0:00:00.01381397247314453'),\n",
       " ('orang00t4_i', '0:00:00.01392793655395508'),\n",
       " ('orang00t4_l', '0:00:00.01408505439758301')]"
      ]
     },
     "execution_count": 17,
     "metadata": {},
     "output_type": "execute_result"
    }
   ],
   "source": [
    "name='orang00t4_n'\n",
    "stash4 = {}\n",
    "for c in valid_chars:\n",
    "    stub = c\n",
    "    for loop in range(0, len(name)):\n",
    "        stublist = [stub + l for l in valid_chars]\n",
    "        for s in stublist:\n",
    "            start = attotime.attodatetime.now()\n",
    "            if compare1(s, name):\n",
    "                if s == name:\n",
    "                    print('Name is', s)\n",
    "                    break\n",
    "                else:\n",
    "                    end = attotime.attodatetime.now()\n",
    "                    duration = end - start\n",
    "                    stash4[s] = str(duration)\n",
    "                    print(s)\n",
    "                    stub = s\n",
    "                    break\n",
    "            else:\n",
    "                end = attotime.attodatetime.now()\n",
    "                duration = end - start\n",
    "                stash4[s] = str(duration)\n",
    "                pass\n",
    "            \n",
    "sorted(stash4.items(), key=lambda x: x[1])[-10:]"
   ]
  },
  {
   "cell_type": "code",
   "execution_count": null,
   "id": "manual-spanish",
   "metadata": {},
   "outputs": [],
   "source": []
  }
 ],
 "metadata": {
  "kernelspec": {
   "display_name": "Python 3",
   "language": "python",
   "name": "python3"
  },
  "language_info": {
   "codemirror_mode": {
    "name": "ipython",
    "version": 3
   },
   "file_extension": ".py",
   "mimetype": "text/x-python",
   "name": "python",
   "nbconvert_exporter": "python",
   "pygments_lexer": "ipython3",
   "version": "3.9.5"
  }
 },
 "nbformat": 4,
 "nbformat_minor": 5
}
