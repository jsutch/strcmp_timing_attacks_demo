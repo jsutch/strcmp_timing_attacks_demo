{
 "cells": [
  {
   "cell_type": "markdown",
   "id": "heavy-faith",
   "metadata": {},
   "source": [
    "## Examining timing side-channel attacks\n",
    "\n",
    "The idea is to show that time analysis can reveal meaningful information about a string used in a secret or a password if the amount of time it takes to perform the string match isn't buffered. \n",
    "\n",
    "The example will be to show how the libc strcmp method reveals information about a secret string and, possibly, the string itself in a brute force attack. We'll be using python code to demonstrate the action and analysis, but this can be performed with any language that uses similar methods.\n",
    "\n",
    "\n",
    "Our secret string is 'apple'.\n",
    "\n",
    "A client presents the secret string to the server, who knows the secret string, in an operation that will fail if the secret is incorrect.\n",
    "\n",
    "So:\n",
    "\n",
    "Client -> 'apple' -> Server  \n",
    "\n",
    "Server: \n",
    "- receives a buffer containing the string. \n",
    "- gets a copy of the secret \n",
    "- strcmp's the two strings\n",
    "    - analyze bytes from l to r\n",
    "    - when a byte fails, return False\n",
    "    - if no bytes fail return True\n",
    "- return the outcome to the client\n",
    "\n",
    "The problem is that for every correct chunk of text on the LHS the \"fail\" takes longer to return. \n",
    "\n",
    "So \"b\" or \"broken\" returns a failure instantly, but a, aplomb, app, application, etc will each take slightly longer for each character matched. The times are tiny, but it's possible to model the jitter windows such that these lengths don't get lost in the noise. This can drastically cut down the time of a brute force attack.\n",
    "\n",
    "TL;DR - using sound hash functions which return in a constant time and not rolling-your-own solves this problem.\n",
    "\n",
    "Also: for authentication purposes it's an antipattern to store the secret plaintext or decode an encrypted secret to compare in plaintext. Hashing the secret, storing the hash then comparing the hashes also obscures the size of your secret by making the compared strings the same lengh, and increasing the problem for a brute force attack."
   ]
  },
  {
   "cell_type": "code",
   "execution_count": 13,
   "id": "solved-arbitration",
   "metadata": {},
   "outputs": [],
   "source": [
    "# need to use attotime here to get fractional nanoseconds\n",
    "import sys, os, time, string, attotime, secrets\n",
    "import pandas as pd\n",
    "import nump"
   ]
  },
  {
   "cell_type": "code",
   "execution_count": 2,
   "id": "instructional-chicken",
   "metadata": {},
   "outputs": [],
   "source": [
    "# in a long string we just want to guess the first character\n",
    "# mysecret = secrets.token_urlsafe()\n",
    "mysecret = 'rMAwzI_52tVSvgKzRo3PJ0G7_Danw7jlaZ-6vTkOUiQ'\n",
    "\n",
    "# we only care about urlsafe characters - alpha, numeric, dash and underscore. Omitting . and ~ (RFC 3986)\n",
    "valid_chars = list(string.ascii_letters)\n",
    "for x in range(0,10):\n",
    "    valid_chars.append(str(x))\n",
    "valid_chars.append('-')\n",
    "valid_chars.append('_')"
   ]
  },
  {
   "cell_type": "code",
   "execution_count": 5,
   "id": "several-earth",
   "metadata": {},
   "outputs": [],
   "source": [
    "def compare1(str1, str2):\n",
    "    \"\"\"\n",
    "    Here we're going to amplify the lib strcmp delays to make the weakness easier to analyze:\n",
    "    1. evaluate strings l-to-r\n",
    "    2. dope a positive match with a tiny wait to emphasize the delay for demonstration\n",
    "    3. return a False match immediately\n",
    "    \"\"\"\n",
    "\n",
    "    one, two = list(str1), list(str2)\n",
    "    for x in range(0,len(one)):\n",
    "        if one[x] == two[x]:\n",
    "            time.sleep(.001)\n",
    "            pass\n",
    "        else:\n",
    "            return False\n",
    "    return True"
   ]
  },
  {
   "cell_type": "markdown",
   "id": "professional-think",
   "metadata": {},
   "source": [
    "### First example - guess the first letter\n",
    "\n",
    "Here we'll just run through each letter 1k times adding completion time to an arry. Then we'll find the longest run of the letters"
   ]
  },
  {
   "cell_type": "code",
   "execution_count": 22,
   "id": "noble-member",
   "metadata": {},
   "outputs": [],
   "source": [
    "totals=[]\n",
    "for loop in range(1000):\n",
    "    stash = {}\n",
    "    for l in valid_chars:\n",
    "        mystr = l *10\n",
    "        start = attotime.attodatetime.now()\n",
    "        compare1(mystr, mysecret)\n",
    "        end = attotime.attodatetime.now()\n",
    "        duration = end - start\n",
    "        stash[mystr] = str(duration)"
   ]
  },
  {
   "cell_type": "code",
   "execution_count": 23,
   "id": "engaged-blair",
   "metadata": {},
   "outputs": [
    {
     "data": {
      "text/plain": [
       "[('UUUUUUUUUU', '0:00:00.00021195411682129'),\n",
       " ('8888888888', '0:00:00.00021290779113769'),\n",
       " ('TTTTTTTTTT', '0:00:00.0002129077911377'),\n",
       " ('IIIIIIIIII', '0:00:00.0002131462097168'),\n",
       " ('WWWWWWWWWW', '0:00:00.000213623046875'),\n",
       " ('EEEEEEEEEE', '0:00:00.0002138614654541'),\n",
       " ('YYYYYYYYYY', '0:00:00.0002138614654541'),\n",
       " ('7777777777', '0:00:00.0002138614654541'),\n",
       " ('nnnnnnnnnn', '0:00:00.00021409988403321'),\n",
       " ('HHHHHHHHHH', '0:00:00.00021409988403321')]"
      ]
     },
     "execution_count": 23,
     "metadata": {},
     "output_type": "execute_result"
    }
   ],
   "source": [
    "# fastest\n",
    "sorted(stash.items(), key=lambda x: x[1])[:10]"
   ]
  },
  {
   "cell_type": "code",
   "execution_count": 25,
   "id": "olympic-continuity",
   "metadata": {},
   "outputs": [
    {
     "data": {
      "text/plain": [
       "[('LLLLLLLLLL', '0:00:00.00022125244140625'),\n",
       " ('aaaaaaaaaa', '0:00:00.00022602081298828'),\n",
       " ('FFFFFFFFFF', '0:00:00.00022697448730469'),\n",
       " ('ffffffffff', '0:00:00.00022721290588379'),\n",
       " ('6666666666', '0:00:00.00023198127746582'),\n",
       " ('vvvvvvvvvv', '0:00:00.00023794174194336'),\n",
       " ('uuuuuuuuuu', '0:00:00.00023818016052246'),\n",
       " ('tttttttttt', '0:00:00.00026583671569824'),\n",
       " ('ssssssssss', '0:00:00.00033998489379883'),\n",
       " ('rrrrrrrrrr', '0:00:00.00161886215209961')]"
      ]
     },
     "execution_count": 25,
     "metadata": {},
     "output_type": "execute_result"
    }
   ],
   "source": [
    "# slowest returns - note how much slower lower case r (leading character match) is compared to the rest\n",
    "sorted(stash.items(), key=lambda x: x[1])[-10:\n",
    "                                         ]"
   ]
  },
  {
   "cell_type": "code",
   "execution_count": null,
   "id": "hispanic-graphic",
   "metadata": {},
   "outputs": [],
   "source": []
  },
  {
   "cell_type": "markdown",
   "id": "decent-creativity",
   "metadata": {},
   "source": [
    "## example of brute force strcmp analysis attacks \n",
    "\n",
    "Here's a dictionary matcher"
   ]
  },
  {
   "cell_type": "code",
   "execution_count": 10,
   "id": "inclusive-memorabilia",
   "metadata": {},
   "outputs": [
    {
     "name": "stdout",
     "output_type": "stream",
     "text": [
      "ap\n",
      "app\n",
      "appl\n",
      "Name is apple\n",
      "Name is apple\n"
     ]
    }
   ],
   "source": [
    "name='apple'\n",
    "stash2 = {}\n",
    "for c in valid_chars:\n",
    "    stub = c\n",
    "    for loop in range(0, len(name)):\n",
    "        stublist = [stub + l for l in valid_chars]\n",
    "        for s in stublist:\n",
    "            start = attotime.attodatetime.now()\n",
    "            if compare1(s, name):\n",
    "                if s == name:\n",
    "                    print('Name is', s)\n",
    "                    break\n",
    "                else:\n",
    "                    end = attotime.attodatetime.now()\n",
    "                    duration = end - start\n",
    "                    stash2[s] = str(duration)\n",
    "                    print(s)\n",
    "                    stub = s\n",
    "                    break\n",
    "            else:\n",
    "                end = attotime.attodatetime.now()\n",
    "                duration = end - start\n",
    "                stash2[s] = str(duration)\n",
    "                pass"
   ]
  },
  {
   "cell_type": "code",
   "execution_count": 11,
   "id": "existing-ultimate",
   "metadata": {},
   "outputs": [
    {
     "data": {
      "text/plain": [
       "[('appj', '0:00:00.00432777404785156'),\n",
       " ('appe', '0:00:00.00439119338989258'),\n",
       " ('app', '0:00:00.0044102668762207'),\n",
       " ('appi', '0:00:00.00441098213195801'),\n",
       " ('appg', '0:00:00.00449085235595703'),\n",
       " ('applc', '0:00:00.00566577911376953'),\n",
       " ('appla', '0:00:00.00567793846130371'),\n",
       " ('applb', '0:00:00.00574898719787598'),\n",
       " ('appl', '0:00:00.00579214096069336'),\n",
       " ('appld', '0:00:00.00586605072021484')]"
      ]
     },
     "execution_count": 11,
     "metadata": {},
     "output_type": "execute_result"
    }
   ],
   "source": [
    "sorted(stash2.items(), key=lambda x: x[1])[-10:]"
   ]
  },
  {
   "cell_type": "code",
   "execution_count": 14,
   "id": "chinese-floating",
   "metadata": {},
   "outputs": [
    {
     "ename": "SyntaxError",
     "evalue": "invalid syntax (3740785661.py, line 1)",
     "output_type": "error",
     "traceback": [
      "\u001b[1;36m  File \u001b[1;32m\"/var/folders/y7/npvsnnsx4fb77q7hsmzg0rn80000gn/T/ipykernel_64163/3740785661.py\"\u001b[1;36m, line \u001b[1;32m1\u001b[0m\n\u001b[1;33m    and a modified dictionary word\u001b[0m\n\u001b[1;37m    ^\u001b[0m\n\u001b[1;31mSyntaxError\u001b[0m\u001b[1;31m:\u001b[0m invalid syntax\n"
     ]
    }
   ],
   "source": [
    "and a modified dictionary word"
   ]
  },
  {
   "cell_type": "code",
   "execution_count": 12,
   "id": "amazing-oakland",
   "metadata": {},
   "outputs": [
    {
     "name": "stdout",
     "output_type": "stream",
     "text": [
      "or\n",
      "ora\n",
      "oran\n",
      "orang\n",
      "orang0\n",
      "orang00\n",
      "orang00t\n",
      "orang00t4\n",
      "orang00t4_\n",
      "Name is orang00t4_n\n",
      "Name is orang00t4_n\n"
     ]
    },
    {
     "data": {
      "text/plain": [
       "[('orang00t4w', '0:00:00.01302409172058106'),\n",
       " ('orang00t4_g', '0:00:00.01305103302001953'),\n",
       " ('orang00t4_f', '0:00:00.01306295394897461'),\n",
       " ('orang00t4y', '0:00:00.01307415962219238'),\n",
       " ('orang00t4_d', '0:00:00.01309800148010254'),\n",
       " ('orang00t4_m', '0:00:00.01314830780029296'),\n",
       " ('orang00t4_h', '0:00:00.01318287849426269'),\n",
       " ('orang00t4_j', '0:00:00.01326775550842285'),\n",
       " ('orang00t4_i', '0:00:00.0136568546295166'),\n",
       " ('orang00t4_', '0:00:00.01391315460205078')]"
      ]
     },
     "execution_count": 12,
     "metadata": {},
     "output_type": "execute_result"
    }
   ],
   "source": [
    "name='orang00t4_n'\n",
    "stash3 = {}\n",
    "for c in valid_chars:\n",
    "    stub = c\n",
    "    for loop in range(0, len(name)):\n",
    "        stublist = [stub + l for l in valid_chars]\n",
    "        for s in stublist:\n",
    "            start = attotime.attodatetime.now()\n",
    "            if compare1(s, name):\n",
    "                if s == name:\n",
    "                    print('Name is', s)\n",
    "                    break\n",
    "                else:\n",
    "                    end = attotime.attodatetime.now()\n",
    "                    duration = end - start\n",
    "                    stash3[s] = str(duration)\n",
    "                    print(s)\n",
    "                    stub = s\n",
    "                    break\n",
    "            else:\n",
    "                end = attotime.attodatetime.now()\n",
    "                duration = end - start\n",
    "                stash3[s] = str(duration)\n",
    "                pass\n",
    "            \n",
    "sorted(stash3.items(), key=lambda x: x[1])[-10:]"
   ]
  },
  {
   "cell_type": "code",
   "execution_count": null,
   "id": "expanded-regard",
   "metadata": {},
   "outputs": [],
   "source": []
  }
 ],
 "metadata": {
  "kernelspec": {
   "display_name": "Python 3",
   "language": "python",
   "name": "python3"
  },
  "language_info": {
   "codemirror_mode": {
    "name": "ipython",
    "version": 3
   },
   "file_extension": ".py",
   "mimetype": "text/x-python",
   "name": "python",
   "nbconvert_exporter": "python",
   "pygments_lexer": "ipython3",
   "version": "3.9.5"
  }
 },
 "nbformat": 4,
 "nbformat_minor": 5
}
