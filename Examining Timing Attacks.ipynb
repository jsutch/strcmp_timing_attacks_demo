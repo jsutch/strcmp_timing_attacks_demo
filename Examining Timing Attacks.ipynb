{
 "cells": [
  {
   "cell_type": "markdown",
   "id": "collect-knight",
   "metadata": {},
   "source": [
    "## Examining timing side-channel attacks\n",
    "\n",
    "The idea is to show that time analysis can reveal meaningful information about a string used in a secret or a password if the amount of time it takes to perform the string match isn't buffered. \n",
    "\n",
    "This example will be to show how the libc strcmp method reveals information about a secret string and, possibly, the string itself in a brute force attack. We'll be using python code to demonstrate the action and analysis, but this can be performed with any language that uses similar methods.\n",
    "\n",
    "\n",
    "Our secret string is 'apple'.\n",
    "\n",
    "A client presents the secret string to the server, who knows the secret string, in an operation that will fail if the secret is incorrect.\n",
    "\n",
    "So:\n",
    "\n",
    "Client -> 'apple' -> Server  \n",
    "\n",
    "Server: \n",
    "- receives a buffer containing the string. \n",
    "- gets a copy of the secret \n",
    "- strcmp's the two strings\n",
    "    - analyze bytes from l to r\n",
    "    - when a byte fails, return False\n",
    "    - if no bytes fail move to next char. \n",
    "    - Return True if nothing fails or False when a match fails.\n",
    "Server ->True/False -> Client \n",
    "\n",
    "The problem is that for every correct chunk of text on the LHS the \"fail\" takes longer to return. Also - longer strings also take longer to return.\n",
    "\n",
    "So \"b\" or \"broken\" returns a failure instantly, but \"a\", \"aplomb\", \"app\", \"application\", etc will each take slightly longer for each character matched. The times are tiny, but it's possible to model the jitter window such that these lengths don't get lost in the noise. This can drastically cut down the time of a brute force attack and enhance its chances of success.\n",
    "\n",
    "TL;DR - using sound hash functions which return in a constant time and not rolling-your-own solves this problem.\n",
    "\n",
    "Also: for authentication purposes it's an antipattern to store the secret plaintext or decode an encrypted secret to compare in plaintext. Hashing the secret, storing the hash then comparing the hashes also obscures the size of your secret by making the compared strings the same lengh, and increasing the problem for a brute force attack."
   ]
  },
  {
   "cell_type": "code",
   "execution_count": 29,
   "id": "solved-arbitration",
   "metadata": {},
   "outputs": [],
   "source": [
    "# need to use attotime here to get fractional nanoseconds\n",
    "import sys, os, time, string, attotime, secrets, hashlib\n",
    "from datetime import datetime\n",
    "\n",
    "# imports\n",
    "import pandas as pd\n",
    "import numpy as np\n",
    "\n",
    "# Viz imports\n",
    "import matplotlib.pyplot as plt\n",
    "import seaborn as sns\n",
    "\n",
    "# Config matplotlib\n",
    "%matplotlib inline\n",
    "plt.rcParams[\"patch.force_edgecolor\"] = True # in matplotlib, edge borders are turned off by default.\n",
    "sns.set_style(\"darkgrid\") # set a grey grid as a background\n",
    "\n",
    "# turn off warnings\n",
    "import warnings\n",
    "warnings.filterwarnings('ignore')\n"
   ]
  },
  {
   "cell_type": "code",
   "execution_count": 2,
   "id": "seeing-prophet",
   "metadata": {},
   "outputs": [],
   "source": [
    "# we only care about urlsafe characters - alpha, numeric, dash and underscore. Omitting . and ~ (RFC 3986)\n",
    "valid_chars = list(string.ascii_letters)\n",
    "for x in range(0,10):\n",
    "    valid_chars.append(str(x))\n",
    "valid_chars.append('-')\n",
    "valid_chars.append('_')"
   ]
  },
  {
   "cell_type": "code",
   "execution_count": 3,
   "id": "bridal-picking",
   "metadata": {},
   "outputs": [],
   "source": [
    "def compare1(str1, str2):\n",
    "    \"\"\"\n",
    "    Here we're going to amplify the lib strcmp delays to make the weakness easier to analyze:\n",
    "    1. evaluate strings l-to-r\n",
    "    2. dope a positive match with a tiny wait to emphasize the delay for demonstration\n",
    "    3. return a False match immediately\n",
    "    \"\"\"\n",
    "\n",
    "    one, two = list(str1), list(str2)\n",
    "    for x in range(0,len(one)):\n",
    "        if one[x] == two[x]:\n",
    "            time.sleep(.001)\n",
    "            pass\n",
    "        else:\n",
    "            return False\n",
    "    return True"
   ]
  },
  {
   "cell_type": "markdown",
   "id": "athletic-nightlife",
   "metadata": {},
   "source": [
    "### First example - guess the first letter\n",
    "\n",
    "Here we'll just run through each letter 1k times adding completion time to an arry. Then we'll find the longest run of the letters"
   ]
  },
  {
   "cell_type": "code",
   "execution_count": 4,
   "id": "awful-rebate",
   "metadata": {},
   "outputs": [],
   "source": [
    "# in a long string we just want to guess the first character\n",
    "# mysecret = secrets.token_urlsafe()\n",
    "mysecret = 'rMAwzI_52tVSvgKzRo3PJ0G7_Danw7jlaZ-6vTkOUiQ'"
   ]
  },
  {
   "cell_type": "code",
   "execution_count": 5,
   "id": "reduced-electric",
   "metadata": {},
   "outputs": [],
   "source": [
    "totals=[]\n",
    "for loop in range(1000):\n",
    "    stash = {}\n",
    "    for l in valid_chars:\n",
    "        mystr = l *10\n",
    "        start = attotime.attodatetime.now()\n",
    "        compare1(mystr, mysecret)\n",
    "        end = attotime.attodatetime.now()\n",
    "        duration = end - start\n",
    "        stash[mystr] = str(duration)"
   ]
  },
  {
   "cell_type": "code",
   "execution_count": 6,
   "id": "labeled-advancement",
   "metadata": {},
   "outputs": [
    {
     "data": {
      "text/plain": [
       "[('eeeeeeeeee', '0:00:00.00020885467529297'),\n",
       " ('hhhhhhhhhh', '0:00:00.00020885467529297'),\n",
       " ('WWWWWWWWWW', '0:00:00.00020980834960937'),\n",
       " ('gggggggggg', '0:00:00.00021004676818848'),\n",
       " ('GGGGGGGGGG', '0:00:00.00021100044250488'),\n",
       " ('0000000000', '0:00:00.00021100044250488'),\n",
       " ('__________', '0:00:00.00021100044250489'),\n",
       " ('kkkkkkkkkk', '0:00:00.00021123886108399'),\n",
       " ('----------', '0:00:00.00021123886108399'),\n",
       " ('4444444444', '0:00:00.00021195411682128')]"
      ]
     },
     "execution_count": 6,
     "metadata": {},
     "output_type": "execute_result"
    }
   ],
   "source": [
    "# fastest\n",
    "sorted(stash.items(), key=lambda x: x[1])[:10]"
   ]
  },
  {
   "cell_type": "code",
   "execution_count": 7,
   "id": "casual-remark",
   "metadata": {},
   "outputs": [
    {
     "data": {
      "text/plain": [
       "[('DDDDDDDDDD', '0:00:00.0002288818359375'),\n",
       " ('vvvvvvvvvv', '0:00:00.00022983551025391'),\n",
       " ('uuuuuuuuuu', '0:00:00.00023078918457031'),\n",
       " ('tttttttttt', '0:00:00.00023198127746582'),\n",
       " ('LLLLLLLLLL', '0:00:00.00023794174194336'),\n",
       " ('QQQQQQQQQQ', '0:00:00.00024700164794922'),\n",
       " ('ssssssssss', '0:00:00.00025391578674317'),\n",
       " ('BBBBBBBBBB', '0:00:00.00028896331787109'),\n",
       " ('6666666666', '0:00:00.00030589103698731'),\n",
       " ('rrrrrrrrrr', '0:00:00.00162029266357422')]"
      ]
     },
     "execution_count": 7,
     "metadata": {},
     "output_type": "execute_result"
    }
   ],
   "source": [
    "# slowest returns at the bottom\n",
    "# note how much slower lower case rrrrrrrrrr (leading character match) is compared to the rest\n",
    "sorted(stash.items(), key=lambda x: x[1])[-10:]"
   ]
  },
  {
   "cell_type": "markdown",
   "id": "faced-parade",
   "metadata": {},
   "source": [
    "### visualize"
   ]
  },
  {
   "cell_type": "code",
   "execution_count": 8,
   "id": "adjusted-yeast",
   "metadata": {},
   "outputs": [],
   "source": [
    "df = pd.DataFrame(stash.items())"
   ]
  },
  {
   "cell_type": "code",
   "execution_count": 9,
   "id": "mounted-biography",
   "metadata": {},
   "outputs": [],
   "source": [
    "# change the column names \n",
    "df.columns = ['string', 'duration']"
   ]
  },
  {
   "cell_type": "code",
   "execution_count": 10,
   "id": "consolidated-ribbon",
   "metadata": {},
   "outputs": [],
   "source": [
    "def fixtimes(time):\n",
    "    if isinstance(time, str):\n",
    "        return float(time.split(':')[2])"
   ]
  },
  {
   "cell_type": "code",
   "execution_count": 11,
   "id": "technical-marsh",
   "metadata": {},
   "outputs": [],
   "source": [
    "# change duration strings to be integers. only use the fractional nanoseconds in this case\n",
    "df['duration'] = df['duration'].apply(fixtimes)"
   ]
  },
  {
   "cell_type": "markdown",
   "id": "miniature-synthetic",
   "metadata": {},
   "source": [
    "**the plot**\n",
    "\n",
    "This is mildly borked. I want a list of xticks that show the string at 'x' where the Duration of 'y' is highest, but set_xticklabels doesn't correlate to y vals. Will fix this later. \n",
    "\n",
    "That said - you'll see that the high point duration matches the 'rrrrrrrrrr' entry from the data."
   ]
  },
  {
   "cell_type": "code",
   "execution_count": 13,
   "id": "promising-validation",
   "metadata": {},
   "outputs": [
    {
     "data": {
      "text/plain": [
       "Text(0, 0.5, 'duration')"
      ]
     },
     "execution_count": 13,
     "metadata": {},
     "output_type": "execute_result"
    },
    {
     "data": {
      "image/png": "[encoded data removed]",
      "text/plain": [
       "<Figure size 1296x432 with 1 Axes>"
      ]
     },
     "metadata": {},
     "output_type": "display_data"
    }
   ],
   "source": [
    "ax = df.plot(figsize=(18,6))\n",
    "df[df['duration']> .000222]['duration'].plot(figsize=(18,6))\n",
    "# not mapping strings to duration correctly\n",
    "plt.xticks(rotation=45)\n",
    "ax.set_xticklabels(df[df['duration']> .000222]['string'])\n",
    "#ax.set_xticklabels(df.string.to_list())\n",
    "# not working as I expected\n",
    "# ax.set_xlabel(df.string.to_list())\n",
    "ax.set_xlabel('string')\n",
    "ax.set_ylabel('duration')"
   ]
  },
  {
   "cell_type": "markdown",
   "id": "steady-refund",
   "metadata": {},
   "source": [
    "**a histogram shows off the distributions**\n",
    "\n",
    "Most of the count returns immediately, but you can see on the right where the longest returns are."
   ]
  },
  {
   "cell_type": "code",
   "execution_count": 14,
   "id": "demanding-defense",
   "metadata": {},
   "outputs": [
    {
     "data": {
      "text/plain": [
       "<AxesSubplot:xlabel='duration', ylabel='Density'>"
      ]
     },
     "execution_count": 14,
     "metadata": {},
     "output_type": "execute_result"
    },
    {
     "data": {
      "image/png": "[encoded data removed]",
      "text/plain": [
       "<Figure size 1296x432 with 1 Axes>"
      ]
     },
     "metadata": {},
     "output_type": "display_data"
    }
   ],
   "source": [
    "# a histogram shows off how obvious a good match is, compared to jitter\n",
    "sns.set(rc={'figure.figsize':(18,6)})\n",
    "plt.xticks(rotation=45)\n",
    "sns.distplot(df[df['duration']> .000222]['duration'],bins=150, rug=True, kde=True)"
   ]
  },
  {
   "cell_type": "markdown",
   "id": "senior-aging",
   "metadata": {},
   "source": [
    "## example of brute force strcmp analysis attacks \n",
    "\n",
    "Here's a dictionary matcher"
   ]
  },
  {
   "cell_type": "code",
   "execution_count": 15,
   "id": "about-attack",
   "metadata": {},
   "outputs": [],
   "source": [
    "# get a built-in dictionary\n",
    "wordsraw = open('/usr/share/dict/words','r').readlines()\n",
    "[x.strip('\\n') for x in wordsraw]\n",
    "words = [x.strip('\\n') for x in wordsraw]"
   ]
  },
  {
   "cell_type": "code",
   "execution_count": 16,
   "id": "small-buying",
   "metadata": {},
   "outputs": [],
   "source": [
    "# set our name as 'apple'\n",
    "name='apple'\n",
    "# a longer one\n",
    "name2 = 'unresourcefulness'"
   ]
  },
  {
   "cell_type": "markdown",
   "id": "sorted-complexity",
   "metadata": {},
   "source": [
    "**This can take awhile to run**\n",
    "\n",
    "Just matching 'apple' from a dictionary of english words. Words farther down the alphabet will take longer.\n"
   ]
  },
  {
   "cell_type": "code",
   "execution_count": 17,
   "id": "informal-registration",
   "metadata": {},
   "outputs": [
    {
     "name": "stdout",
     "output_type": "stream",
     "text": [
      "starting at: 2021-07-05 15:45:41.473723\n",
      "Name is apple\n",
      "Finished. Total time: 0:00:24.19434690475463867\n"
     ]
    }
   ],
   "source": [
    "stash2 = {}\n",
    "print('starting at:', datetime.now())\n",
    "runstart = attotime.attodatetime.now()\n",
    "for w in range(0,len(words)):\n",
    "    start = attotime.attodatetime.now()\n",
    "    if compare1(words[w], name):\n",
    "            if compare1(words[w], name):\n",
    "                if words[w] == name:\n",
    "                    print('Name is', words[w])\n",
    "                    break\n",
    "            else:\n",
    "                end = attotime.attodatetime.now()\n",
    "                duration = end - start\n",
    "                stash2[words[w]] = str(duration)\n",
    "                print(words[w])\n",
    "                stub = s\n",
    "                break\n",
    "    else:\n",
    "        end = attotime.attodatetime.now()\n",
    "        duration = end - start\n",
    "        stash2[words[w]] = str(duration)\n",
    "        pass\n",
    "runend = attotime.attodatetime.now()\n",
    "print('Finished. Total time:', runend - runstart)"
   ]
  },
  {
   "cell_type": "code",
   "execution_count": 18,
   "id": "mediterranean-helmet",
   "metadata": {},
   "outputs": [
    {
     "data": {
      "text/plain": [
       "[('Anchistopoda', '0:00:00.00021600723266602'),\n",
       " ('Agib', '0:00:00.00021696090698242'),\n",
       " ('Adeona', '0:00:00.00021767616271972'),\n",
       " ('Americawards', '0:00:00.00021791458129883'),\n",
       " ('Anacreontically', '0:00:00.00021815299987793'),\n",
       " ('Africanize', '0:00:00.00021815299987794'),\n",
       " ('Aaronitic', '0:00:00.00021886825561523'),\n",
       " ('Agapemonite', '0:00:00.00021886825561523'),\n",
       " ('Aphrodite', '0:00:00.00021886825561523'),\n",
       " ('Akhlame', '0:00:00.00021886825561524')]"
      ]
     },
     "execution_count": 18,
     "metadata": {},
     "output_type": "execute_result"
    }
   ],
   "source": [
    "sorted(stash2.items(),key=lambda x: x[1])[:10]"
   ]
  },
  {
   "cell_type": "markdown",
   "id": "loving-chester",
   "metadata": {},
   "source": [
    "### Brute forcing letter by letter\n",
    "\n",
    "using the timing analysis on local alphabet attacks"
   ]
  },
  {
   "cell_type": "code",
   "execution_count": 19,
   "id": "supposed-slave",
   "metadata": {},
   "outputs": [
    {
     "name": "stdout",
     "output_type": "stream",
     "text": [
      "un\n",
      "unr\n",
      "unre\n",
      "unres\n",
      "unreso\n",
      "unresou\n",
      "unresour\n",
      "unresourc\n",
      "unresource\n",
      "unresourcef\n",
      "unresourcefu\n",
      "unresourceful\n",
      "unresourcefuln\n",
      "unresourcefulne\n",
      "unresourcefulnes\n",
      "Name is unresourcefulness\n",
      "Name is unresourcefulness\n"
     ]
    }
   ],
   "source": [
    "\n",
    "stash3 = {}\n",
    "for c in valid_chars:\n",
    "    stub = c\n",
    "    for loop in range(0, len(name2)):\n",
    "        stublist = [stub + l for l in valid_chars]\n",
    "        for s in stublist:\n",
    "            start = attotime.attodatetime.now()\n",
    "            if compare1(s, name2):\n",
    "                if s == name2:\n",
    "                    print('Name is', s)\n",
    "                    break\n",
    "                else:\n",
    "                    end = attotime.attodatetime.now()\n",
    "                    duration = end - start\n",
    "                    stash3[s] = str(duration)\n",
    "                    print(s)\n",
    "                    stub = s\n",
    "                    break\n",
    "            else:\n",
    "                end = attotime.attodatetime.now()\n",
    "                duration = end - start\n",
    "                stash3[s] = str(duration)\n",
    "                pass"
   ]
  },
  {
   "cell_type": "markdown",
   "id": "removable-present",
   "metadata": {},
   "source": [
    "**The longest returns are at the bottom and correspond to getting closer to the answer**\n",
    "\n",
    "There is a little jumbling but it's clear that by only focusing on time it clusters better answers together."
   ]
  },
  {
   "cell_type": "code",
   "execution_count": 20,
   "id": "sitting-therapy",
   "metadata": {},
   "outputs": [
    {
     "data": {
      "text/plain": [
       "[('unresourcefulne', '0:00:00.02023506164550781'),\n",
       " ('unresourcefulned', '0:00:00.02031373977661132'),\n",
       " ('unresourcefulnesm', '0:00:00.02043700218200684'),\n",
       " ('unresourcefulnesl', '0:00:00.02053403854370117'),\n",
       " ('unresourcefulnesn', '0:00:00.02061986923217774'),\n",
       " ('unresourcefulnesh', '0:00:00.02070784568786622'),\n",
       " ('unresourcefulneb', '0:00:00.02071785926818848'),\n",
       " ('unresourcefulnec', '0:00:00.02073884010314942'),\n",
       " ('unresourcefulnesf', '0:00:00.02083563804626465'),\n",
       " ('unresourcefulnea', '0:00:00.02091598510742188'),\n",
       " ('unresourcefulnesb', '0:00:00.02103519439697266'),\n",
       " ('unresourcefulnesj', '0:00:00.0210881233215332'),\n",
       " ('unresourcefulnesi', '0:00:00.02119660377502441'),\n",
       " ('unresourcefulnesg', '0:00:00.02123785018920899'),\n",
       " ('unresourcefulnese', '0:00:00.02157807350158691'),\n",
       " ('unresourcefulnesp', '0:00:00.02175784111022949'),\n",
       " ('unresourcefulnesd', '0:00:00.02190899848937988'),\n",
       " ('unresourcefulneso', '0:00:00.02203226089477539'),\n",
       " ('unresourcefulnesq', '0:00:00.02204012870788574'),\n",
       " ('unresourcefulnesr', '0:00:00.02222108840942383')]"
      ]
     },
     "execution_count": 20,
     "metadata": {},
     "output_type": "execute_result"
    }
   ],
   "source": [
    "# The longest returns are at the bottom and correspond to getting closer to the answer\n",
    "sorted(stash3.items(), key=lambda x: x[1])[-20:]"
   ]
  },
  {
   "cell_type": "markdown",
   "id": "falling-knowing",
   "metadata": {},
   "source": [
    "**and a modified dictionary word**"
   ]
  },
  {
   "cell_type": "code",
   "execution_count": 21,
   "id": "broad-theater",
   "metadata": {},
   "outputs": [
    {
     "name": "stdout",
     "output_type": "stream",
     "text": [
      "or\n",
      "ora\n",
      "oran\n",
      "orang\n",
      "orang0\n",
      "orang00\n",
      "orang00t\n",
      "orang00t4\n",
      "orang00t4_\n",
      "Name is orang00t4_n\n",
      "Name is orang00t4_n\n"
     ]
    }
   ],
   "source": [
    "name='orang00t4_n'\n",
    "stash4 = {}\n",
    "for c in valid_chars:\n",
    "    stub = c\n",
    "    for loop in range(0, len(name)):\n",
    "        stublist = [stub + l for l in valid_chars]\n",
    "        for s in stublist:\n",
    "            start = attotime.attodatetime.now()\n",
    "            if compare1(s, name):\n",
    "                if s == name:\n",
    "                    print('Name is', s)\n",
    "                    break\n",
    "                else:\n",
    "                    end = attotime.attodatetime.now()\n",
    "                    duration = end - start\n",
    "                    stash4[s] = str(duration)\n",
    "                    print(s)\n",
    "                    stub = s\n",
    "                    break\n",
    "            else:\n",
    "                end = attotime.attodatetime.now()\n",
    "                duration = end - start\n",
    "                stash4[s] = str(duration)\n",
    "                pass\n",
    "            "
   ]
  },
  {
   "cell_type": "code",
   "execution_count": 22,
   "id": "manual-spanish",
   "metadata": {},
   "outputs": [
    {
     "data": {
      "text/plain": [
       "[('orang00t46', '0:00:00.01255202293395996'),\n",
       " ('orang00t47', '0:00:00.0125722885131836'),\n",
       " ('orang00t4_d', '0:00:00.01261806488037109'),\n",
       " ('orang00t44', '0:00:00.0126950740814209'),\n",
       " ('orang00t4_b', '0:00:00.01271724700927735'),\n",
       " ('orang00t43', '0:00:00.01273226737976074'),\n",
       " ('orang00t4_c', '0:00:00.01273703575134278'),\n",
       " ('orang00t4_g', '0:00:00.01283621788024903'),\n",
       " ('orang00t4c', '0:00:00.01292276382446289'),\n",
       " ('orang00t4_k', '0:00:00.01300191879272461'),\n",
       " ('orang00t45', '0:00:00.01302099227905273'),\n",
       " ('orang00t4_e', '0:00:00.01309609413146973'),\n",
       " ('orang00t4_j', '0:00:00.0131840705871582'),\n",
       " ('orang00t4_m', '0:00:00.01326990127563476'),\n",
       " ('orang00t4_l', '0:00:00.013275146484375'),\n",
       " ('orang00t4_h', '0:00:00.01332497596740723'),\n",
       " ('orang00t4_i', '0:00:00.01337075233459472'),\n",
       " ('orang00t4_a', '0:00:00.01343297958374023'),\n",
       " ('orang00t4_f', '0:00:00.01364302635192871'),\n",
       " ('orang00t4_', '0:00:00.01391100883483887')]"
      ]
     },
     "execution_count": 22,
     "metadata": {},
     "output_type": "execute_result"
    }
   ],
   "source": [
    "sorted(stash4.items(), key=lambda x: x[1])[-20:]"
   ]
  },
  {
   "cell_type": "markdown",
   "id": "immune-daisy",
   "metadata": {},
   "source": [
    "## Testing the time difference with our long string\n",
    "\n",
    "\n",
    "This will take slightly longer for a 41 character string, but trivial on a modern laptop.\n",
    "\n",
    "\n",
    "mysecret = 'rMAwzI_52tVSvgKzRo3PJ0G7_Danw7jlaZ-6vTkOUiQ'"
   ]
  },
  {
   "cell_type": "code",
   "execution_count": 26,
   "id": "american-royal",
   "metadata": {},
   "outputs": [
    {
     "name": "stdout",
     "output_type": "stream",
     "text": [
      "starting at: 2021-07-05 15:54:01.095566\n",
      "rM\n",
      "rMA\n",
      "rMAw\n",
      "rMAwz\n",
      "rMAwzI\n",
      "rMAwzI_\n",
      "rMAwzI_5\n",
      "rMAwzI_52\n",
      "rMAwzI_52t\n",
      "rMAwzI_52tV\n",
      "rMAwzI_52tVS\n",
      "rMAwzI_52tVSv\n",
      "rMAwzI_52tVSvg\n",
      "rMAwzI_52tVSvgK\n",
      "rMAwzI_52tVSvgKz\n",
      "rMAwzI_52tVSvgKzR\n",
      "rMAwzI_52tVSvgKzRo\n",
      "rMAwzI_52tVSvgKzRo3\n",
      "rMAwzI_52tVSvgKzRo3P\n",
      "rMAwzI_52tVSvgKzRo3PJ\n",
      "rMAwzI_52tVSvgKzRo3PJ0\n",
      "rMAwzI_52tVSvgKzRo3PJ0G\n",
      "rMAwzI_52tVSvgKzRo3PJ0G7\n",
      "rMAwzI_52tVSvgKzRo3PJ0G7_\n",
      "rMAwzI_52tVSvgKzRo3PJ0G7_D\n",
      "rMAwzI_52tVSvgKzRo3PJ0G7_Da\n",
      "rMAwzI_52tVSvgKzRo3PJ0G7_Dan\n",
      "rMAwzI_52tVSvgKzRo3PJ0G7_Danw\n",
      "rMAwzI_52tVSvgKzRo3PJ0G7_Danw7\n",
      "rMAwzI_52tVSvgKzRo3PJ0G7_Danw7j\n",
      "rMAwzI_52tVSvgKzRo3PJ0G7_Danw7jl\n",
      "rMAwzI_52tVSvgKzRo3PJ0G7_Danw7jla\n",
      "rMAwzI_52tVSvgKzRo3PJ0G7_Danw7jlaZ\n",
      "rMAwzI_52tVSvgKzRo3PJ0G7_Danw7jlaZ-\n",
      "rMAwzI_52tVSvgKzRo3PJ0G7_Danw7jlaZ-6\n",
      "rMAwzI_52tVSvgKzRo3PJ0G7_Danw7jlaZ-6v\n",
      "rMAwzI_52tVSvgKzRo3PJ0G7_Danw7jlaZ-6vT\n",
      "rMAwzI_52tVSvgKzRo3PJ0G7_Danw7jlaZ-6vTk\n",
      "rMAwzI_52tVSvgKzRo3PJ0G7_Danw7jlaZ-6vTkO\n",
      "rMAwzI_52tVSvgKzRo3PJ0G7_Danw7jlaZ-6vTkOU\n",
      "rMAwzI_52tVSvgKzRo3PJ0G7_Danw7jlaZ-6vTkOUi\n",
      "Name is rMAwzI_52tVSvgKzRo3PJ0G7_Danw7jlaZ-6vTkOUiQ\n",
      "Name is rMAwzI_52tVSvgKzRo3PJ0G7_Danw7jlaZ-6vTkOUiQ\n",
      "Finished. Total time: 0:02:09.79362177848815918\n"
     ]
    }
   ],
   "source": [
    "print('starting at:', datetime.now())\n",
    "runstart = attotime.attodatetime.now()\n",
    "stash5 = {}\n",
    "for c in valid_chars:\n",
    "    stub = c\n",
    "    for loop in range(0, len(mysecret)):\n",
    "        stublist = [stub + l for l in valid_chars]\n",
    "        for s in stublist:\n",
    "            start = attotime.attodatetime.now()\n",
    "            if compare1(s, mysecret):\n",
    "                if s == mysecret:\n",
    "                    print('Name is', s)\n",
    "                    break\n",
    "                else:\n",
    "                    end = attotime.attodatetime.now()\n",
    "                    duration = end - start\n",
    "                    stash5[s] = str(duration)\n",
    "                    print(s)\n",
    "                    stub = s\n",
    "                    break\n",
    "            else:\n",
    "                end = attotime.attodatetime.now()\n",
    "                duration = end - start\n",
    "                stash5[s] = str(duration)\n",
    "                pass\n",
    "runend = attotime.attodatetime.now()\n",
    "print('Finished. Total time:', runend - runstart)"
   ]
  },
  {
   "cell_type": "code",
   "execution_count": 27,
   "id": "tested-alliance",
   "metadata": {},
   "outputs": [
    {
     "data": {
      "text/plain": [
       "[('Se', '0:00:00.00020885467529297'),\n",
       " ('uS', '0:00:00.00020933151245117'),\n",
       " ('fV', '0:00:00.00020980834960937'),\n",
       " ('T2', '0:00:00.00020980834960937'),\n",
       " ('2i', '0:00:00.00020980834960937')]"
      ]
     },
     "execution_count": 27,
     "metadata": {},
     "output_type": "execute_result"
    }
   ],
   "source": [
    "sorted(stash5.items(), key=lambda x: x[1])[:5]"
   ]
  },
  {
   "cell_type": "code",
   "execution_count": 28,
   "id": "supposed-session",
   "metadata": {},
   "outputs": [
    {
     "data": {
      "text/plain": [
       "[('rMAwzI_52tVSvgKzRo3PJ0G7_Danw7jlaZ-6vTkOUf', '0:00:00.05510401725769043'),\n",
       " ('rMAwzI_52tVSvgKzRo3PJ0G7_Danw7jlaZ-6vTkOUiE', '0:00:00.05525302886962891'),\n",
       " ('rMAwzI_52tVSvgKzRo3PJ0G7_Danw7jlaZ-6vTkOUiy', '0:00:00.05527281761169434'),\n",
       " ('rMAwzI_52tVSvgKzRo3PJ0G7_Danw7jlaZ-6vTkOUim', '0:00:00.05531096458435058'),\n",
       " ('rMAwzI_52tVSvgKzRo3PJ0G7_Danw7jlaZ-6vTkOUiA', '0:00:00.05566596984863281'),\n",
       " ('rMAwzI_52tVSvgKzRo3PJ0G7_Danw7jlaZ-6vTkOUit', '0:00:00.05573201179504394'),\n",
       " ('rMAwzI_52tVSvgKzRo3PJ0G7_Danw7jlaZ-6vTkOUic', '0:00:00.05579710006713867'),\n",
       " ('rMAwzI_52tVSvgKzRo3PJ0G7_Danw7jlaZ-6vTkOUiP', '0:00:00.05579900741577149'),\n",
       " ('rMAwzI_52tVSvgKzRo3PJ0G7_Danw7jlaZ-6vTkOUid', '0:00:00.05587410926818848'),\n",
       " ('rMAwzI_52tVSvgKzRo3PJ0G7_Danw7jlaZ-6vTkOUia', '0:00:00.05602025985717774'),\n",
       " ('rMAwzI_52tVSvgKzRo3PJ0G7_Danw7jlaZ-6vTkOUh', '0:00:00.05602192878723144'),\n",
       " ('rMAwzI_52tVSvgKzRo3PJ0G7_Danw7jlaZ-6vTkOUif', '0:00:00.05605888366699219'),\n",
       " ('rMAwzI_52tVSvgKzRo3PJ0G7_Danw7jlaZ-6vTkOUiB', '0:00:00.05606794357299805'),\n",
       " ('rMAwzI_52tVSvgKzRo3PJ0G7_Danw7jlaZ-6vTkOUiD', '0:00:00.05612111091613769'),\n",
       " ('rMAwzI_52tVSvgKzRo3PJ0G7_Danw7jlaZ-6vTkOUiz', '0:00:00.056290864944458'),\n",
       " ('rMAwzI_52tVSvgKzRo3PJ0G7_Danw7jlaZ-6vTkOUiF', '0:00:00.05642390251159668'),\n",
       " ('rMAwzI_52tVSvgKzRo3PJ0G7_Danw7jlaZ-6vTkOUig', '0:00:00.05677318572998046'),\n",
       " ('rMAwzI_52tVSvgKzRo3PJ0G7_Danw7jlaZ-6vTkOUiq', '0:00:00.05691313743591308'),\n",
       " ('rMAwzI_52tVSvgKzRo3PJ0G7_Danw7jlaZ-6vTkOUi', '0:00:00.05739307403564453'),\n",
       " ('rMAwzI_52tVSvgKzRo3PJ0G7_Danw7jlaZ-6vTkOUin', '0:00:00.05771517753601074')]"
      ]
     },
     "execution_count": 28,
     "metadata": {},
     "output_type": "execute_result"
    }
   ],
   "source": [
    "sorted(stash5.items(), key=lambda x: x[1])[-20:]"
   ]
  },
  {
   "cell_type": "markdown",
   "id": "faced-feeling",
   "metadata": {},
   "source": [
    "### How would this compare to hash comparison?\n",
    "\n",
    "This will start will the dictionary word 'apple'."
   ]
  },
  {
   "cell_type": "code",
   "execution_count": 40,
   "id": "revised-maine",
   "metadata": {},
   "outputs": [],
   "source": [
    "def comparehash(token, secret):\n",
    "    \"\"\"\n",
    "    we're going to use the old md5 hash to simplify the demonstration\n",
    "    \"\"\"\n",
    "    htoken, hsecret = hashlib.md5(token.encode('utf-8')), hashlib.md5(secret.encode('utf-8'))\n",
    "    one, two = list(htoken.hexdigest()), list(hsecret.hexdigest())\n",
    "    for x in range(0,len(one)):\n",
    "        if one[x] == two[x]:\n",
    "            time.sleep(.001)\n",
    "            pass\n",
    "        else:\n",
    "            return False\n",
    "    return True"
   ]
  },
  {
   "cell_type": "code",
   "execution_count": 42,
   "id": "musical-flower",
   "metadata": {},
   "outputs": [],
   "source": [
    "totals=[]\n",
    "for loop in range(1000):\n",
    "    stash10 = {}\n",
    "    for l in valid_chars:\n",
    "        mystr = l *10\n",
    "        start = attotime.attodatetime.now()\n",
    "        comparehash(mystr, mysecret)\n",
    "        end = attotime.attodatetime.now()\n",
    "        duration = end - start\n",
    "        stash10[mystr] = str(duration)"
   ]
  },
  {
   "cell_type": "code",
   "execution_count": 43,
   "id": "sought-attack",
   "metadata": {},
   "outputs": [
    {
     "data": {
      "text/plain": [
       "[('cccccccccc', '0:00:00.00022721290588379'),\n",
       " ('UUUUUUUUUU', '0:00:00.00023722648620605'),\n",
       " ('llllllllll', '0:00:00.00023889541625976'),\n",
       " ('kkkkkkkkkk', '0:00:00.0002439022064209'),\n",
       " ('TTTTTTTTTT', '0:00:00.00024580955505371'),\n",
       " ('bbbbbbbbbb', '0:00:00.00025177001953125'),\n",
       " ('iiiiiiiiii', '0:00:00.00025582313537597'),\n",
       " ('vvvvvvvvvv', '0:00:00.00026488304138184'),\n",
       " ('jjjjjjjjjj', '0:00:00.00033926963806153'),\n",
       " ('hhhhhhhhhh', '0:00:00.00164484977722168')]"
      ]
     },
     "execution_count": 43,
     "metadata": {},
     "output_type": "execute_result"
    }
   ],
   "source": [
    "sorted(stash10.items(), key=lambda x: x[1])[-10:]"
   ]
  },
  {
   "cell_type": "code",
   "execution_count": 44,
   "id": "skilled-certificate",
   "metadata": {},
   "outputs": [],
   "source": [
    "df10 = pd.DataFrame(stash10.items())"
   ]
  },
  {
   "cell_type": "code",
   "execution_count": 45,
   "id": "extensive-bidder",
   "metadata": {},
   "outputs": [],
   "source": [
    "df10.columns = ['string', 'duration']"
   ]
  },
  {
   "cell_type": "code",
   "execution_count": 46,
   "id": "racial-junction",
   "metadata": {},
   "outputs": [],
   "source": [
    "df10['duration'] = df10['duration'].apply(fixtimes)"
   ]
  },
  {
   "cell_type": "code",
   "execution_count": null,
   "id": "hazardous-patrol",
   "metadata": {},
   "outputs": [],
   "source": [
    "ax = df.plot(figsize=(18,6))\n",
    "df[df['duration']> .000222]['duration'].plot(figsize=(18,6))\n",
    "# not mapping strings to duration correctly\n",
    "plt.xticks(rotation=45)\n",
    "ax.set_xticklabels(df[df['duration']> .000222]['string'])\n",
    "#ax.set_xticklabels(df.string.to_list())\n",
    "# not working as I expected\n",
    "# ax.set_xlabel(df.string.to_list())\n",
    "ax.set_xlabel('string')\n",
    "ax.set_ylabel('duration')"
   ]
  }
 ],
 "metadata": {
  "kernelspec": {
   "display_name": "Python 3",
   "language": "python",
   "name": "python3"
  },
  "language_info": {
   "codemirror_mode": {
    "name": "ipython",
    "version": 3
   },
   "file_extension": ".py",
   "mimetype": "text/x-python",
   "name": "python",
   "nbconvert_exporter": "python",
   "pygments_lexer": "ipython3",
   "version": "3.9.5"
  }
 },
 "nbformat": 4,
 "nbformat_minor": 5
}
